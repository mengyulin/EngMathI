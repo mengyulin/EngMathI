{
 "cells": [
  {
   "cell_type": "markdown",
   "id": "e1462478-de16-4921-b8a2-2a549e612890",
   "metadata": {},
   "source": [
    "# 3.8 Linear Models: Initial-Value Problems"
   ]
  },
  {
   "cell_type": "markdown",
   "id": "3e62df1d-998d-44c9-ba15-7185c9d65024",
   "metadata": {
    "jp-MarkdownHeadingCollapsed": true
   },
   "source": [
    "## 範例 1 彈簧質量系統：Free Undamped Motion\n",
    "\n",
    "一彈簧初始時吊掛於天花板而無懸掛質量。當懸掛一個 2 kg 的重物時，彈簧伸長 9.81 cm。若重物位於平衡點以上 2/3 m 時施予 5 m/s 的向下速度。\n",
    "\n",
    "問題：\n",
    "\n",
    "1. 寫出運動方程式。\n",
    "2. 求出振盪的振幅與頻率。\n",
    "3. 在何時物體初次通過平衡點？\n",
    "4. 在何時物體初次剛好低於平衡點 1/2 m?"
   ]
  },
  {
   "cell_type": "markdown",
   "id": "7d62a32c-23c5-4fa3-b045-b45de643b623",
   "metadata": {},
   "source": [
    "## 解答\n",
    "\n",
    "### 求出彈簧係數\n",
    "\n",
    "<img src=\"fig_3_8_1.png\" alt=\"img\" width=\"300\">\n",
    "\n",
    "由 Hooke's law 知：\n",
    "\n",
    "$$\n",
    "mg - ks = 0\n",
    "$$\n",
    "\n",
    "其中 $m\\, (\\mathrm{kg})$ 為物體質量，$k\\,(\\mathrm{N/m})$ 為彈簧係數，$s\\,(\\mathrm{m})$ 為位移量，$g = 9.81\\,(\\mathrm{m/s^2})$ 為重力加速度。故得\n",
    "\n",
    "$$\n",
    "k = \\frac{mg}{s}\n",
    "$$"
   ]
  },
  {
   "cell_type": "code",
   "execution_count": 1,
   "id": "3802d0dd-f0ec-4f30-a0a3-2fbfb05b5b15",
   "metadata": {},
   "outputs": [
    {
     "name": "stdout",
     "output_type": "stream",
     "text": [
      "Spring constant k = 200.000.\n"
     ]
    }
   ],
   "source": [
    "%display latex\n",
    "\n",
    "m = 2        # 質量\n",
    "s = 0.0981   # 初始伸長量\n",
    "g = 9.81     # 重力加速度    \n",
    "k = m*g/s    # 彈簧係數\n",
    "print(f\"Spring constant k = {k:.3f}.\")"
   ]
  },
  {
   "cell_type": "markdown",
   "id": "26bee0c1-6343-4725-8171-7d665fbaf61d",
   "metadata": {},
   "source": [
    "### 運動方程式\n",
    "\n",
    "<img src=\"fig_3_8_2.png\" alt=\"img\" width=\"180\">\n",
    "\n",
    "如上圖，定義自平衡點以下之位移 $x$ 為正。對於無阻尼之自由振動 (free undamped motion)，其運動方程式為\n",
    "\n",
    "$$\n",
    "x'' + \\omega^2 x = 0\n",
    "$$\n",
    "\n",
    "其中 $\\omega^2 = k/m$ 為振盪之角頻率 (angular frequency)。頻率 $f$ 與週期 $T$ 則為\n",
    "\n",
    "$$\n",
    "f = \\frac{1}{T} = \\frac{\\omega}{2\\pi}\n",
    "$$"
   ]
  },
  {
   "cell_type": "markdown",
   "id": "3ad23fb6-7a41-43aa-a214-eb2fd56c5f27",
   "metadata": {},
   "source": [
    "#### 求出頻率與角頻率"
   ]
  },
  {
   "cell_type": "code",
   "execution_count": 2,
   "id": "f4bdf260-5ca8-4cd4-b218-59be743c9d7a",
   "metadata": {},
   "outputs": [
    {
     "name": "stdout",
     "output_type": "stream",
     "text": [
      "Angular frequency omega = 10\n",
      "Frequency f =  5/pi\n"
     ]
    }
   ],
   "source": [
    "k = Integer(k)      # 將 k 值轉為整數\n",
    "omega = sqrt(k/m)\n",
    "f = omega/(2*pi)\n",
    "print(\"Angular frequency omega =\", omega)\n",
    "print(\"Frequency f = \", f)"
   ]
  },
  {
   "cell_type": "markdown",
   "id": "ecc7fd31-bf49-47d3-becd-f1a57b164e21",
   "metadata": {},
   "source": [
    "#### 建立運動方程式"
   ]
  },
  {
   "cell_type": "code",
   "execution_count": 3,
   "id": "c2821c9a-a62b-45ad-b0f5-8acc1d8a059c",
   "metadata": {},
   "outputs": [
    {
     "data": {
      "text/html": [
       "<html>\\(\\displaystyle 100 \\, x\\left(t\\right) + \\frac{\\partial^{2}}{(\\partial t)^{2}}x\\left(t\\right) = 0\\)</html>"
      ],
      "text/latex": [
       "$\\displaystyle 100 \\, x\\left(t\\right) + \\frac{\\partial^{2}}{(\\partial t)^{2}}x\\left(t\\right) = 0$"
      ],
      "text/plain": [
       "100*x(t) + diff(x(t), t, t) == 0"
      ]
     },
     "execution_count": 3,
     "metadata": {},
     "output_type": "execute_result"
    }
   ],
   "source": [
    "t = var('t')\n",
    "x = function('x')(t)\n",
    "de1 = diff(x,t,t) + omega^2 * x == 0\n",
    "de1"
   ]
  },
  {
   "cell_type": "markdown",
   "id": "90fa323f-5ae3-46a3-8868-e04a9afbcc26",
   "metadata": {},
   "source": [
    "### 運動方程式求解\n",
    "\n",
    "#### 通解"
   ]
  },
  {
   "cell_type": "code",
   "execution_count": 4,
   "id": "a1b5be3c-d263-4f15-ad2c-ddc2bf153fa0",
   "metadata": {},
   "outputs": [
    {
     "data": {
      "text/html": [
       "<html>\\(\\displaystyle K_{2} \\cos\\left(10 \\, t\\right) + K_{1} \\sin\\left(10 \\, t\\right)\\)</html>"
      ],
      "text/latex": [
       "$\\displaystyle K_{2} \\cos\\left(10 \\, t\\right) + K_{1} \\sin\\left(10 \\, t\\right)$"
      ],
      "text/plain": [
       "_K2*cos(10*t) + _K1*sin(10*t)"
      ]
     },
     "execution_count": 4,
     "metadata": {},
     "output_type": "execute_result"
    }
   ],
   "source": [
    "sol1_general = desolve(de1, x)\n",
    "sol1_general"
   ]
  },
  {
   "cell_type": "markdown",
   "id": "13581244-aea5-45ae-b766-d5b26f02af50",
   "metadata": {},
   "source": [
    "#### IVP 之解"
   ]
  },
  {
   "cell_type": "code",
   "execution_count": 5,
   "id": "1dc34407-dd6c-4683-ad93-33595ded0c44",
   "metadata": {},
   "outputs": [
    {
     "data": {
      "text/html": [
       "<html>\\(\\displaystyle -\\frac{2}{3} \\, \\cos\\left(10 \\, t\\right) + \\frac{1}{2} \\, \\sin\\left(10 \\, t\\right)\\)</html>"
      ],
      "text/latex": [
       "$\\displaystyle -\\frac{2}{3} \\, \\cos\\left(10 \\, t\\right) + \\frac{1}{2} \\, \\sin\\left(10 \\, t\\right)$"
      ],
      "text/plain": [
       "-2/3*cos(10*t) + 1/2*sin(10*t)"
      ]
     },
     "execution_count": 5,
     "metadata": {},
     "output_type": "execute_result"
    }
   ],
   "source": [
    "#                              ICs\n",
    "#                           ~~~~~~~~\n",
    "sol1_IVP = desolve(de1, x, [0,-2/3,5])\n",
    "sol1_IVP"
   ]
  },
  {
   "cell_type": "code",
   "execution_count": 6,
   "id": "b3e3fa1b-2b91-4b24-a36d-eab52d9c821f",
   "metadata": {},
   "outputs": [
    {
     "data": {
      "image/png": "[encoded data removed]",
      "text/plain": [
       "Graphics object consisting of 1 graphics primitive"
      ]
     },
     "execution_count": 6,
     "metadata": {},
     "output_type": "execute_result"
    }
   ],
   "source": [
    "plot(sol1_IVP, t, 0, pi)"
   ]
  },
  {
   "cell_type": "markdown",
   "id": "44cee3d9-95cd-400a-93aa-c1a7c31df4bc",
   "metadata": {},
   "source": [
    "#### 求解振幅\n",
    "\n",
    "此解可表為\n",
    "$$\n",
    "x(t) = C_1 \\cos(\\omega t) + C_2 \\sin(\\omega t) = A \\sin(\\omega t + \\phi)\n",
    "$$\n",
    "\n",
    "其中振幅 $A = \\sqrt{C_1^2+C_2^2}$，相位角 $\\phi = \\tan^{-1}(C_1/C_2)$。"
   ]
  },
  {
   "cell_type": "markdown",
   "id": "2ca19b7a-b2ea-4ccc-be75-7faf29443633",
   "metadata": {},
   "source": [
    "振幅 $A$:"
   ]
  },
  {
   "cell_type": "code",
   "execution_count": 7,
   "id": "ca115178-1c30-4c07-98aa-a0b7a1322e7e",
   "metadata": {},
   "outputs": [
    {
     "data": {
      "text/html": [
       "<html>\\(\\displaystyle \\frac{5}{6}\\)</html>"
      ],
      "text/latex": [
       "$\\displaystyle \\frac{5}{6}$"
      ],
      "text/plain": [
       "5/6"
      ]
     },
     "execution_count": 7,
     "metadata": {},
     "output_type": "execute_result"
    }
   ],
   "source": [
    "C1 = -2/3; C2 = 1/2\n",
    "A = sqrt(C1^2+C2^2)\n",
    "A"
   ]
  },
  {
   "cell_type": "markdown",
   "id": "320cd4cd-60a7-4e6f-988e-f48383f1d17d",
   "metadata": {},
   "source": [
    "相位角 $\\phi$:"
   ]
  },
  {
   "cell_type": "code",
   "execution_count": 8,
   "id": "a3937b1a-7ddd-4d89-a215-b38ebb70071e",
   "metadata": {},
   "outputs": [
    {
     "data": {
      "text/html": [
       "<html>\\(\\displaystyle -\\arctan\\left(\\frac{4}{3}\\right)\\)</html>"
      ],
      "text/latex": [
       "$\\displaystyle -\\arctan\\left(\\frac{4}{3}\\right)$"
      ],
      "text/plain": [
       "-arctan(4/3)"
      ]
     },
     "execution_count": 8,
     "metadata": {},
     "output_type": "execute_result"
    }
   ],
   "source": [
    "phi = atan(C1/C2)\n",
    "phi"
   ]
  },
  {
   "cell_type": "code",
   "execution_count": 9,
   "id": "d0382dd7-b777-4b85-b1eb-93c3d1cadc26",
   "metadata": {},
   "outputs": [
    {
     "data": {
      "text/html": [
       "<html>\\(\\displaystyle -0.927295218001612\\)</html>"
      ],
      "text/latex": [
       "$\\displaystyle -0.927295218001612$"
      ],
      "text/plain": [
       "-0.927295218001612"
      ]
     },
     "execution_count": 9,
     "metadata": {},
     "output_type": "execute_result"
    }
   ],
   "source": [
    "# phi 之數值：\n",
    "n(phi)"
   ]
  },
  {
   "cell_type": "markdown",
   "id": "12671c15-4efc-43e0-b386-1a73160be3b5",
   "metadata": {},
   "source": [
    "此形式的解為："
   ]
  },
  {
   "cell_type": "code",
   "execution_count": 10,
   "id": "11510fe6-5dcb-4e3e-af4c-5734813ec215",
   "metadata": {},
   "outputs": [
    {
     "data": {
      "text/html": [
       "<html>\\(\\displaystyle \\frac{5}{6} \\, \\sin\\left(10 \\, t - \\arctan\\left(\\frac{4}{3}\\right)\\right)\\)</html>"
      ],
      "text/latex": [
       "$\\displaystyle \\frac{5}{6} \\, \\sin\\left(10 \\, t - \\arctan\\left(\\frac{4}{3}\\right)\\right)$"
      ],
      "text/plain": [
       "5/6*sin(10*t - arctan(4/3))"
      ]
     },
     "execution_count": 10,
     "metadata": {},
     "output_type": "execute_result"
    }
   ],
   "source": [
    "sol2 = A*sin(10*t + phi)\n",
    "sol2"
   ]
  },
  {
   "cell_type": "markdown",
   "id": "7ae9d9d8-96e8-40fb-bf62-a399c0e0fe10",
   "metadata": {},
   "source": [
    "繪圖比較："
   ]
  },
  {
   "cell_type": "code",
   "execution_count": 11,
   "id": "8e543ef6-d12f-49c9-a707-8f662c6d1ce0",
   "metadata": {},
   "outputs": [
    {
     "data": {
      "image/png": "[encoded data removed]",
      "text/plain": [
       "Graphics object consisting of 1 graphics primitive"
      ]
     },
     "execution_count": 11,
     "metadata": {},
     "output_type": "execute_result"
    }
   ],
   "source": [
    "plot(sol2, t, 0, pi)"
   ]
  },
  {
   "cell_type": "markdown",
   "id": "701ecc39-b7f9-4e15-a884-2b29d1ed8e8f",
   "metadata": {},
   "source": [
    "#### 初次通過平衡點的時間\n",
    "\n",
    "平衡點為 $x(t) = 0$，故求解下式的 $t$ 值：\n",
    "\n",
    "$$\n",
    "A\\sin(\\omega t + \\phi) = 0\n",
    "$$"
   ]
  },
  {
   "cell_type": "code",
   "execution_count": 12,
   "id": "efed354b-b072-4aca-bb28-4f837117d985",
   "metadata": {},
   "outputs": [
    {
     "data": {
      "text/html": [
       "<html>\\(\\displaystyle \\left[t = \\frac{1}{10} \\, \\arctan\\left(\\frac{4}{3}\\right)\\right]\\)</html>"
      ],
      "text/latex": [
       "$\\displaystyle \\left[t = \\frac{1}{10} \\, \\arctan\\left(\\frac{4}{3}\\right)\\right]$"
      ],
      "text/plain": [
       "[t == 1/10*arctan(4/3)]"
      ]
     },
     "execution_count": 12,
     "metadata": {},
     "output_type": "execute_result"
    }
   ],
   "source": [
    "solve(sol2 == 0, t)"
   ]
  },
  {
   "cell_type": "markdown",
   "id": "5ed24de1-77af-4e3f-a79c-ae0ecd4e6b4f",
   "metadata": {},
   "source": [
    "此解的形式為串列 (list)。如欲取得其值，需取出串列中元素的右手邊："
   ]
  },
  {
   "cell_type": "code",
   "execution_count": 14,
   "id": "53b933c8-124c-4386-b442-80fa76b40ed8",
   "metadata": {},
   "outputs": [
    {
     "data": {
      "text/html": [
       "<html>\\(\\displaystyle \\frac{1}{10} \\, \\arctan\\left(\\frac{4}{3}\\right)\\)</html>"
      ],
      "text/latex": [
       "$\\displaystyle \\frac{1}{10} \\, \\arctan\\left(\\frac{4}{3}\\right)$"
      ],
      "text/plain": [
       "1/10*arctan(4/3)"
      ]
     },
     "execution_count": 14,
     "metadata": {},
     "output_type": "execute_result"
    }
   ],
   "source": [
    "#                  第一個元素 右手邊\n",
    "#                       ~~~ ~~~~~\n",
    "t0 = solve(sol2 == 0, t)[0].rhs()\n",
    "t0"
   ]
  },
  {
   "cell_type": "markdown",
   "id": "fe381c2f-5df9-472a-b31c-54da09ace204",
   "metadata": {},
   "source": [
    "故可得初次通過平衡點的時間為 (s):"
   ]
  },
  {
   "cell_type": "code",
   "execution_count": 15,
   "id": "5a47bca2-856e-41a9-bf2b-08c04db4f213",
   "metadata": {},
   "outputs": [
    {
     "data": {
      "text/html": [
       "<html>\\(\\displaystyle 0.0927295218001612\\)</html>"
      ],
      "text/latex": [
       "$\\displaystyle 0.0927295218001612$"
      ],
      "text/plain": [
       "0.0927295218001612"
      ]
     },
     "execution_count": 15,
     "metadata": {},
     "output_type": "execute_result"
    }
   ],
   "source": [
    "n(t0)"
   ]
  },
  {
   "cell_type": "markdown",
   "id": "394d9aac-9fb7-456e-a0db-44c05da584cd",
   "metadata": {},
   "source": [
    "#### 初次達平衡點下 1/2 m 之時間\n",
    "\n",
    "需解出：\n",
    "\n",
    "$$\n",
    "A\\sin(\\omega t + \\phi) = 1/2\n",
    "$$"
   ]
  },
  {
   "cell_type": "code",
   "execution_count": 16,
   "id": "643c1cdf-72b4-4d12-8528-dc2bb687e9c3",
   "metadata": {},
   "outputs": [
    {
     "data": {
      "text/html": [
       "<html>\\(\\displaystyle \\frac{1}{10} \\, \\arcsin\\left(\\frac{3}{5}\\right) + \\frac{1}{10} \\, \\arctan\\left(\\frac{4}{3}\\right)\\)</html>"
      ],
      "text/latex": [
       "$\\displaystyle \\frac{1}{10} \\, \\arcsin\\left(\\frac{3}{5}\\right) + \\frac{1}{10} \\, \\arctan\\left(\\frac{4}{3}\\right)$"
      ],
      "text/plain": [
       "1/10*arcsin(3/5) + 1/10*arctan(4/3)"
      ]
     },
     "execution_count": 16,
     "metadata": {},
     "output_type": "execute_result"
    }
   ],
   "source": [
    "t1 = solve(sol2 == 1/2, t)[0].rhs()\n",
    "t1"
   ]
  },
  {
   "cell_type": "markdown",
   "id": "0e77a165-8984-4ec2-b080-c774165f0d7c",
   "metadata": {},
   "source": [
    "故得初次達平衡點下 1/2 m 之時間 (s) 為："
   ]
  },
  {
   "cell_type": "code",
   "execution_count": 17,
   "id": "6b656b57-ee46-4db3-846e-56a145f165ae",
   "metadata": {},
   "outputs": [
    {
     "data": {
      "text/html": [
       "<html>\\(\\displaystyle 0.157079632679490\\)</html>"
      ],
      "text/latex": [
       "$\\displaystyle 0.157079632679490$"
      ],
      "text/plain": [
       "0.157079632679490"
      ]
     },
     "execution_count": 17,
     "metadata": {},
     "output_type": "execute_result"
    }
   ],
   "source": [
    "n(t1)"
   ]
  },
  {
   "cell_type": "markdown",
   "id": "bc7e0ad9-26be-4608-9791-707676fb0bd8",
   "metadata": {},
   "source": [
    "換言之，$x(0.0927\\dots) = 0$, $x(0.157\\dots) = 1/2$。"
   ]
  }
 ],
 "metadata": {
  "kernelspec": {
   "display_name": "SageMath 10.4",
   "language": "sage",
   "name": "sagemath-10.4"
  },
  "language_info": {
   "codemirror_mode": {
    "name": "ipython",
    "version": 3
   },
   "file_extension": ".py",
   "mimetype": "text/x-python",
   "name": "python",
   "nbconvert_exporter": "python",
   "pygments_lexer": "ipython3",
   "version": "3.12.4"
  }
 },
 "nbformat": 4,
 "nbformat_minor": 5
}
