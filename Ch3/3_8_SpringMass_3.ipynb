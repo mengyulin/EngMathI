{
 "cells": [
  {
   "cell_type": "markdown",
   "id": "85b11b5b-f19d-457f-bc0c-27b9961ed242",
   "metadata": {},
   "source": [
    "# 專題：彈簧質量系統－Driven Motion\n",
    "\n",
    "## 運動方程式\n",
    "\n",
    "一彈簧質量系統，物體質量為 $m\\,\\mathrm{kg}$，彈簧係數為 $k\\,\\mathrm{N/m}$，阻尼係數為 $\\beta\\,\\mathrm{Ns/m}$。若受到外力 $f(t)~\\mathrm{N}$ 的作用，其運動方程式為\n",
    "\n",
    "$$\n",
    "x'' + 2\\lambda x' + \\omega^2 x = F(t)\n",
    "$$\n",
    "\n",
    "其中 $2\\lambda = \\beta/m$, $\\omega^2=k/m$, $F(t) = f(t)/m$。"
   ]
  },
  {
   "cell_type": "markdown",
   "id": "675b858d-76b2-4475-956f-6c573e67aba6",
   "metadata": {},
   "source": [
    "## 問題一\n",
    "\n",
    "若 $m = 1/5~\\mathrm{kg}$, $\\beta = 1.2~\\mathrm{Ns/m}$, $k = 2~\\mathrm{N/m}$。外力 $F(t) = 5\\cos 4t~N$。初始時間 $t=0$ 時，位置在平衡點下方 $1/2~\\mathrm{m}$，速度為 0。\n",
    "\n",
    "請解出此問題，並繪出 $x(t)$ 的圖形。"
   ]
  },
  {
   "cell_type": "code",
   "execution_count": null,
   "id": "5e851af7-e0ce-4489-a4f9-0f2f340cc729",
   "metadata": {},
   "outputs": [],
   "source": []
  },
  {
   "cell_type": "markdown",
   "id": "8ad80deb-c924-43ce-bb38-9112a22e7b8b",
   "metadata": {},
   "source": [
    "## 問題二\n",
    "\n",
    "受週期性外力振盪的彈簧質量系統：\n",
    "\n",
    "$$\n",
    "x'' + 2 x' + 2 x = 4\\cos t + 2\\sin t,\\quad x(0) = 0,\\quad x'(0) = v_0\n",
    "$$\n",
    "\n",
    "其中 $v_0$ 代表初始速度。\n",
    "\n",
    "1. 將 $v_0$ 視為變數，求出此初始值問題的解。\n",
    "2. 繪出不同初始速度的位移函數 $x(t)$ 圖，例如 $v_0 = -3, 0, 3, 7$ 等。\n",
    "\n",
    "註：可設 v0 為變數：\n",
    "\n",
    "    v0 = var('v0')"
   ]
  },
  {
   "cell_type": "code",
   "execution_count": null,
   "id": "3ce05885-e5e0-4212-a576-8a966eaeed70",
   "metadata": {},
   "outputs": [],
   "source": []
  },
  {
   "cell_type": "markdown",
   "id": "4b495936-09ee-4736-9c08-70b2ae8de819",
   "metadata": {},
   "source": [
    "## 問題三\n",
    "\n",
    "一無阻尼且受週期性外力之振盪：\n",
    "\n",
    "$$\n",
    "x'' + \\omega^2 x = \\cos \\gamma t,\\quad x(0) = 0,\\quad x'(0) = 0\n",
    "$$\n",
    "\n",
    "若 $\\omega = 2$, $\\gamma = 3$, 請求出其解並繪圖說明其振盪特性。"
   ]
  },
  {
   "cell_type": "code",
   "execution_count": null,
   "id": "3c310937-5fb0-4092-b8a6-17423c905d97",
   "metadata": {},
   "outputs": [],
   "source": []
  },
  {
   "cell_type": "markdown",
   "id": "3aeac451-84b8-4c57-a073-aa5336f39c7f",
   "metadata": {},
   "source": [
    "## 問題四\n",
    "\n",
    "同問題三之振盪問題，$\\omega = 2$。若外力之振盪角頻率 $\\gamma$ 的值逐漸接近於 $\\omega$, 請求出其解並繪圖說明其振盪特性。\n",
    "\n",
    "註：可設定 $\\gamma = 2.7, 2.5, \\dots, 2.1, 2$ 等值，求出其解並繪圖討論。"
   ]
  },
  {
   "cell_type": "code",
   "execution_count": null,
   "id": "c2b09dc0-70e4-4383-ac2b-5b28732a511a",
   "metadata": {},
   "outputs": [],
   "source": []
  }
 ],
 "metadata": {
  "kernelspec": {
   "display_name": "SageMath 10.4",
   "language": "sage",
   "name": "sagemath-10.4"
  },
  "language_info": {
   "codemirror_mode": {
    "name": "ipython",
    "version": 3
   },
   "file_extension": ".py",
   "mimetype": "text/x-python",
   "name": "python",
   "nbconvert_exporter": "python",
   "pygments_lexer": "ipython3",
   "version": "3.12.4"
  }
 },
 "nbformat": 4,
 "nbformat_minor": 5
}
