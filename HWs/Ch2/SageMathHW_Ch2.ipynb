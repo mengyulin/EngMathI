{
 "cells": [
  {
   "cell_type": "markdown",
   "id": "1047bfed-899a-46e6-8722-0526cb81be32",
   "metadata": {},
   "source": [
    "# SageMath 作業：Chapter 2"
   ]
  },
  {
   "cell_type": "markdown",
   "id": "ffa9c763-8618-4c1f-acc1-1f290044cef4",
   "metadata": {},
   "source": [
    "## 作業題目\n",
    "\n",
    "請使用 SageMath 繪出方向場並解出答案。若為初始值問題，請於方向場中加入解曲線。"
   ]
  },
  {
   "cell_type": "markdown",
   "id": "179c39b4-9806-4da5-9d56-15233be9bcb0",
   "metadata": {},
   "source": [
    "### 第一題\n",
    "\n",
    "$$\n",
    "y' + 3x^2 y = x^2\n",
    "$$"
   ]
  },
  {
   "cell_type": "code",
   "execution_count": null,
   "id": "a5b4d537-0b57-45af-9aa6-b815f9e6a849",
   "metadata": {},
   "outputs": [],
   "source": []
  },
  {
   "cell_type": "markdown",
   "id": "159a0bc3-4903-4571-8998-f98395136a84",
   "metadata": {},
   "source": [
    "### 第二題\n",
    "\n",
    "$$\n",
    "x^2\\frac{dy}{dx} - 2xy = 3y^4,\\quad y(1) = 1/2\n",
    "$$"
   ]
  },
  {
   "cell_type": "code",
   "execution_count": null,
   "id": "406a9829-3605-4340-88ff-f18d06552d1b",
   "metadata": {},
   "outputs": [],
   "source": []
  },
  {
   "cell_type": "markdown",
   "id": "c2520034-fd96-4e94-9abf-e4feaa661aed",
   "metadata": {},
   "source": [
    "## 期末專題討論題 (期末繳交)\n",
    "\n",
    "$$\n",
    "y^{1/2} \\frac{dy}{dx} + y^{3/2} = 1,\\quad y(0) = 4\n",
    "$$\n",
    "\n",
    "註：其解為隱式，需要使用 `implicit_plot` 繪圖。"
   ]
  },
  {
   "cell_type": "code",
   "execution_count": null,
   "id": "06917468-cb3e-472c-9f30-32bd9e4c0643",
   "metadata": {},
   "outputs": [],
   "source": []
  }
 ],
 "metadata": {
  "kernelspec": {
   "display_name": "SageMath 10.4",
   "language": "sage",
   "name": "sagemath-10.4"
  },
  "language_info": {
   "codemirror_mode": {
    "name": "ipython",
    "version": 3
   },
   "file_extension": ".py",
   "mimetype": "text/x-python",
   "name": "python",
   "nbconvert_exporter": "python",
   "pygments_lexer": "ipython3",
   "version": "3.12.4"
  }
 },
 "nbformat": 4,
 "nbformat_minor": 5
}
