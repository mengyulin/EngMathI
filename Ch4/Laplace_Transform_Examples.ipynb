{
 "cells": [
  {
   "cell_type": "markdown",
   "id": "fdbcdbf7",
   "metadata": {},
   "source": [
    "# Laplace Transform 應用範例"
   ]
  },
  {
   "cell_type": "markdown",
   "id": "21ae39cc",
   "metadata": {},
   "source": [
    "### 理論簡介\n",
    "Laplace Transform 定義：\n",
    "$$\n",
    "\\mathcal{L}\\{f(t)\\} = F(s) = \\int_0^\\infty e^{-st} f(t) \\, dt\n",
    "$$"
   ]
  },
  {
   "cell_type": "markdown",
   "id": "e4d4e492-0462-40ef-b7d9-5cbe63ad391d",
   "metadata": {},
   "source": [
    "### Laplace Transform 範例\n",
    "\n",
    "設函數\n",
    "\n",
    "$$\n",
    "f = t^2 e^{-3t}\n",
    "$$\n",
    "\n",
    "求出其 Laplace transform $\\mathcal{L}\\left\\{f(t)\\right\\} = F(s)$:"
   ]
  },
  {
   "cell_type": "code",
   "execution_count": 1,
   "id": "977e52d0",
   "metadata": {},
   "outputs": [],
   "source": [
    "%display latex\n",
    "# 匯入符號工具與定義變數\n",
    "var('t s')\n",
    "f = function('f')(t)  # 定義函數 f(t)"
   ]
  },
  {
   "cell_type": "code",
   "execution_count": 2,
   "id": "ca804672",
   "metadata": {},
   "outputs": [
    {
     "data": {
      "text/html": [
       "<html>\\(\\displaystyle t^{2} e^{\\left(-3 \\, t\\right)}\\)</html>"
      ],
      "text/latex": [
       "$\\displaystyle t^{2} e^{\\left(-3 \\, t\\right)}$"
      ],
      "text/plain": [
       "t^2*e^(-3*t)"
      ]
     },
     "execution_count": 2,
     "metadata": {},
     "output_type": "execute_result"
    }
   ],
   "source": [
    "f = t^2 * e^(-3*t)\n",
    "f"
   ]
  },
  {
   "cell_type": "code",
   "execution_count": 3,
   "id": "81d1f2c7-e66c-4957-bde9-1f87d7b5ae4d",
   "metadata": {},
   "outputs": [
    {
     "data": {
      "text/html": [
       "<html>\\(\\displaystyle \\frac{2}{{\\left(s + 3\\right)}^{3}}\\)</html>"
      ],
      "text/latex": [
       "$\\displaystyle \\frac{2}{{\\left(s + 3\\right)}^{3}}$"
      ],
      "text/plain": [
       "2/(s + 3)^3"
      ]
     },
     "execution_count": 3,
     "metadata": {},
     "output_type": "execute_result"
    }
   ],
   "source": [
    "# Laplace Transform\n",
    "F = laplace(f, t, s)\n",
    "F"
   ]
  },
  {
   "cell_type": "code",
   "execution_count": 4,
   "id": "b310eee2",
   "metadata": {},
   "outputs": [
    {
     "data": {
      "text/html": [
       "<html>\\(\\displaystyle t^{2} e^{\\left(-3 \\, t\\right)}\\)</html>"
      ],
      "text/latex": [
       "$\\displaystyle t^{2} e^{\\left(-3 \\, t\\right)}$"
      ],
      "text/plain": [
       "t^2*e^(-3*t)"
      ]
     },
     "execution_count": 4,
     "metadata": {},
     "output_type": "execute_result"
    }
   ],
   "source": [
    "# Inverse Laplace Transform\n",
    "f_inv = inverse_laplace(F, s, t)\n",
    "f_inv"
   ]
  },
  {
   "cell_type": "markdown",
   "id": "9adb5109",
   "metadata": {},
   "source": [
    "### 解微分方程式的範例 (desolve_laplace)"
   ]
  },
  {
   "cell_type": "code",
   "execution_count": 5,
   "id": "38e6a34d",
   "metadata": {},
   "outputs": [
    {
     "data": {
      "text/html": [
       "<html>\\(\\displaystyle 3 \\, y\\left(t\\right) + \\frac{\\partial}{\\partial t}y\\left(t\\right) = e^{\\left(-2 \\, t\\right)}\\)</html>"
      ],
      "text/latex": [
       "$\\displaystyle 3 \\, y\\left(t\\right) + \\frac{\\partial}{\\partial t}y\\left(t\\right) = e^{\\left(-2 \\, t\\right)}$"
      ],
      "text/plain": [
       "3*y(t) + diff(y(t), t) == e^(-2*t)"
      ]
     },
     "execution_count": 5,
     "metadata": {},
     "output_type": "execute_result"
    }
   ],
   "source": [
    "# 定義符號與方程\n",
    "y = function('y')(t)\n",
    "eq = diff(y, t) + 3*y == exp(-2*t)\n",
    "eq"
   ]
  },
  {
   "cell_type": "code",
   "execution_count": 6,
   "id": "f6766b64-f92f-4908-8ec2-c9384de8d98d",
   "metadata": {},
   "outputs": [
    {
     "data": {
      "text/html": [
       "<html>\\(\\displaystyle {\\left(C + e^{t}\\right)} e^{\\left(-3 \\, t\\right)}\\)</html>"
      ],
      "text/latex": [
       "$\\displaystyle {\\left(C + e^{t}\\right)} e^{\\left(-3 \\, t\\right)}$"
      ],
      "text/plain": [
       "(_C + e^t)*e^(-3*t)"
      ]
     },
     "execution_count": 6,
     "metadata": {},
     "output_type": "execute_result"
    }
   ],
   "source": [
    "# 使用 desolve 求解\n",
    "desolve(eq, y)"
   ]
  },
  {
   "cell_type": "code",
   "execution_count": 7,
   "id": "7091fcce",
   "metadata": {},
   "outputs": [
    {
     "data": {
      "text/html": [
       "<html>\\(\\displaystyle {\\left(y\\left(0\\right) - 1\\right)} e^{\\left(-3 \\, t\\right)} + e^{\\left(-2 \\, t\\right)}\\)</html>"
      ],
      "text/latex": [
       "$\\displaystyle {\\left(y\\left(0\\right) - 1\\right)} e^{\\left(-3 \\, t\\right)} + e^{\\left(-2 \\, t\\right)}$"
      ],
      "text/plain": [
       "(y(0) - 1)*e^(-3*t) + e^(-2*t)"
      ]
     },
     "execution_count": 7,
     "metadata": {},
     "output_type": "execute_result"
    }
   ],
   "source": [
    "# 使用 Laplace Transform 求解\n",
    "desolve_laplace(eq, y)"
   ]
  },
  {
   "cell_type": "markdown",
   "id": "27d41863-1638-491f-bdbf-e605f8a20761",
   "metadata": {},
   "source": [
    "### 使用正、逆轉換解方程式\n",
    "\n",
    "微分方程式問題：\n",
    "\n",
    "$$\n",
    "x'' + 2 x' + 2x = e^{-2t},\\quad x(0) = x'(0) = 0\n",
    "$$\n",
    "\n",
    "其 Laplace transform 為\n",
    "\n",
    "$$\n",
    "(s^2 + 2s + 2) X(s) = \\frac{1}{s+2}\n",
    "$$\n",
    "\n",
    "故可得\n",
    "\n",
    "$$\n",
    "X(s) = \\frac{1}{(s+2)((s+1)^2+1))}\n",
    "$$\n",
    "\n",
    "經部分分式拆解後可得\n",
    "\n",
    "$$\n",
    "X(s) = \\frac{1}{2}\\frac{1}{s+2} - \\frac{1}{2}\\frac{s+1}{(s+1)^2+1} + \\frac{1}{2}\\frac{1}{(s+1)^2+1}\n",
    "$$\n",
    "\n",
    "經 inverse Laplace transform 可得\n",
    "\n",
    "$$\n",
    "x(t) = \\mathcal{L}^{-1}\\left\\{X(s)\\right\\} = \\frac{1}{2}e^{-2t} - \\frac{1}{2}e^{-t}\\cos(t) + \\frac{1}{2} e^{-t}\\sin(t)\n",
    "$$"
   ]
  },
  {
   "cell_type": "markdown",
   "id": "55265abf-35df-4b4c-b876-d79c5d04fdd7",
   "metadata": {},
   "source": [
    "定義函數並求其 Laplace transform:"
   ]
  },
  {
   "cell_type": "code",
   "execution_count": 8,
   "id": "f06ae76d-691a-4e96-967b-9bdd1a34dd2f",
   "metadata": {},
   "outputs": [
    {
     "data": {
      "text/plain": [
       "s^2*laplace(x(t), t, s) + 2*s*laplace(x(t), t, s) - s*x(0) + 2*laplace(x(t), t, s) - 2*x(0) - D[0](x)(0) == (1/(s + 2))"
      ]
     },
     "execution_count": 8,
     "metadata": {},
     "output_type": "execute_result"
    }
   ],
   "source": [
    "%display plain\n",
    "s,t,X = var('s,t,X')\n",
    "x = function('x')(t)\n",
    "de = diff(x,t,t) + 2*diff(x,t) +2*x == e^(-2*t)\n",
    "LTde = laplace(de, t, s)\n",
    "LTde"
   ]
  },
  {
   "cell_type": "markdown",
   "id": "16204842-d2bb-4a03-9271-186674ec72e7",
   "metadata": {},
   "source": [
    "使用字串格式處理初始值："
   ]
  },
  {
   "cell_type": "code",
   "execution_count": 9,
   "id": "f781f68d-ff6d-4e67-8299-b02c2b58e682",
   "metadata": {},
   "outputs": [
    {
     "data": {
      "text/plain": [
       "'s^2*X + 2*s*X - s*x(0) + 2*X - 2*x(0) - D[0](x)(0) == (1/(s + 2))'"
      ]
     },
     "execution_count": 9,
     "metadata": {},
     "output_type": "execute_result"
    }
   ],
   "source": [
    "# 將 LTde 轉換為字串格式後指派為 strLTde\n",
    "strLTde = str(LTde).replace(\"laplace(x(t), t, s)\", \"X\")\n",
    "strLTde"
   ]
  },
  {
   "cell_type": "code",
   "execution_count": 10,
   "id": "e657b178-0580-4241-aebc-9524e15b232c",
   "metadata": {},
   "outputs": [
    {
     "data": {
      "text/plain": [
       "'s^2*X + 2*s*X - s*0 + 2*X - 2*0 - D[0](x)(0) == (1/(s + 2))'"
      ]
     },
     "execution_count": 10,
     "metadata": {},
     "output_type": "execute_result"
    }
   ],
   "source": [
    "# 將 \"x(0)\" 用 \"0\" 替代\n",
    "strLTde0 = strLTde.replace(\"x(0)\", \"0\")\n",
    "strLTde0"
   ]
  },
  {
   "cell_type": "code",
   "execution_count": 11,
   "id": "b5f401a4-2fad-4601-b333-1e5b62ac5b8f",
   "metadata": {},
   "outputs": [
    {
     "data": {
      "text/plain": [
       "'s^2*X + 2*s*X - s*0 + 2*X - 2*0 - 0 == (1/(s + 2))'"
      ]
     },
     "execution_count": 11,
     "metadata": {},
     "output_type": "execute_result"
    }
   ],
   "source": [
    "# 將 \"D[0](x)(0)\" 用 \"0\" 替代\n",
    "strLTde00 = strLTde0.replace(\"D[0](x)(0)\", \"0\")\n",
    "strLTde00"
   ]
  },
  {
   "cell_type": "code",
   "execution_count": 12,
   "id": "3273f21f-8ee5-49d7-a040-4dcb75f521c5",
   "metadata": {},
   "outputs": [
    {
     "data": {
      "text/plain": [
       "X*s^2 + 2*X*s + 2*X == (1/(s + 2))"
      ]
     },
     "execution_count": 12,
     "metadata": {},
     "output_type": "execute_result"
    }
   ],
   "source": [
    "# 將字串轉為函數\n",
    "LTde00 = sage_eval(strLTde00, locals={\"s\":s, \"X\":X})\n",
    "LTde00"
   ]
  },
  {
   "cell_type": "code",
   "execution_count": 13,
   "id": "00a6159d-9b9c-494e-bed5-cbf3b0968e17",
   "metadata": {},
   "outputs": [
    {
     "data": {
      "text/plain": [
       "[X == (1/(s^3 + 4*s^2 + 6*s + 4))]"
      ]
     },
     "execution_count": 13,
     "metadata": {},
     "output_type": "execute_result"
    }
   ],
   "source": [
    "# 解出 X\n",
    "soln = solve(LTde00, X)\n",
    "soln"
   ]
  },
  {
   "cell_type": "code",
   "execution_count": 14,
   "id": "16c26f0d-2525-4f5c-a61b-dbdb3b72a77f",
   "metadata": {},
   "outputs": [
    {
     "data": {
      "text/plain": [
       "1/(s^3 + 4*s^2 + 6*s + 4)"
      ]
     },
     "execution_count": 14,
     "metadata": {},
     "output_type": "execute_result"
    }
   ],
   "source": [
    "# 取出 X 解的右手邊\n",
    "Xs = soln[0].rhs()\n",
    "Xs"
   ]
  },
  {
   "cell_type": "code",
   "execution_count": 15,
   "id": "83861dca-b73c-4cdf-a58d-556ea38fdfac",
   "metadata": {},
   "outputs": [
    {
     "data": {
      "text/plain": [
       "-1/2*s/(s^2 + 2*s + 2) + 1/2/(s + 2)"
      ]
     },
     "execution_count": 15,
     "metadata": {},
     "output_type": "execute_result"
    }
   ],
   "source": [
    "# 進行部分分式拆解\n",
    "f = Xs.partial_fraction(); f"
   ]
  },
  {
   "cell_type": "code",
   "execution_count": 16,
   "id": "3b23d7f1-3ece-417a-85cc-1a9b45beefff",
   "metadata": {},
   "outputs": [
    {
     "data": {
      "text/plain": [
       "-1/2*(cos(t) - sin(t))*e^(-t) + 1/2*e^(-2*t)"
      ]
     },
     "execution_count": 16,
     "metadata": {},
     "output_type": "execute_result"
    }
   ],
   "source": [
    "# 進行逆轉換\n",
    "f.inverse_laplace(s,t)"
   ]
  },
  {
   "cell_type": "code",
   "execution_count": 17,
   "id": "9b503ee9-fc13-4605-849c-485fc1862b4e",
   "metadata": {},
   "outputs": [
    {
     "data": {
      "text/html": [
       "<html>\\(\\displaystyle -\\frac{1}{2} \\, {\\left(\\cos\\left(t\\right) - \\sin\\left(t\\right)\\right)} e^{\\left(-t\\right)} + \\frac{1}{2} \\, e^{\\left(-2 \\, t\\right)}\\)</html>"
      ],
      "text/latex": [
       "$\\displaystyle -\\frac{1}{2} \\, {\\left(\\cos\\left(t\\right) - \\sin\\left(t\\right)\\right)} e^{\\left(-t\\right)} + \\frac{1}{2} \\, e^{\\left(-2 \\, t\\right)}$"
      ],
      "text/plain": [
       "-1/2*(cos(t) - sin(t))*e^(-t) + 1/2*e^(-2*t)"
      ]
     },
     "execution_count": 17,
     "metadata": {},
     "output_type": "execute_result"
    }
   ],
   "source": [
    "%display latex\n",
    "f.inverse_laplace(s,t)"
   ]
  }
 ],
 "metadata": {
  "kernelspec": {
   "display_name": "SageMath 10.4",
   "language": "sage",
   "name": "sagemath-10.4"
  },
  "language_info": {
   "codemirror_mode": {
    "name": "ipython",
    "version": 3
   },
   "file_extension": ".py",
   "mimetype": "text/x-python",
   "name": "python",
   "nbconvert_exporter": "python",
   "pygments_lexer": "ipython3",
   "version": "3.12.4"
  }
 },
 "nbformat": 4,
 "nbformat_minor": 5
}
