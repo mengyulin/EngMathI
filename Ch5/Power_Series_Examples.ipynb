{
 "cells": [
  {
   "cell_type": "markdown",
   "id": "0b3f1c1d-edf0-4a67-9818-a2affb0d3096",
   "metadata": {},
   "source": [
    "# 線性微分方程式之級數解\n",
    "\n",
    "## Power Series (冪級數)"
   ]
  },
  {
   "cell_type": "markdown",
   "id": "7961b3f0-8476-476b-942b-b520c4e7e659",
   "metadata": {},
   "source": [
    "### 冪級數展開 (Power Series Expansions)\n",
    "\n",
    "#### 指令 `series`\n",
    "\n",
    "計算在 $x_0$ 處的 n 階冪級數展開：\n",
    "\n",
    "    f(x).series(x==x0, n)"
   ]
  },
  {
   "cell_type": "markdown",
   "id": "9447f0d8-3825-4e88-8d22-e2b227639f9c",
   "metadata": {},
   "source": [
    "#### 範例\n",
    "\n",
    "展開 $(1+\\tan^{-1} x)^{1/x}$, $x_0 = 0$, $n = 5$:"
   ]
  },
  {
   "cell_type": "code",
   "execution_count": 12,
   "id": "3707b454-f2f3-46e1-86b7-eab610785b16",
   "metadata": {},
   "outputs": [
    {
     "data": {
      "text/html": [
       "<html>\\(\\displaystyle {(e)} + {(-\\frac{1}{2} \\, e)} x + {(\\frac{1}{8} \\, e)} x^{2} + {(\\frac{1}{16} \\, e)} x^{3} + {(\\frac{53}{1920} \\, e)} x^{4} + \\mathcal{O}\\left(x^{5}\\right)\\)</html>"
      ],
      "text/latex": [
       "$\\displaystyle {(e)} + {(-\\frac{1}{2} \\, e)} x + {(\\frac{1}{8} \\, e)} x^{2} + {(\\frac{1}{16} \\, e)} x^{3} + {(\\frac{53}{1920} \\, e)} x^{4} + \\mathcal{O}\\left(x^{5}\\right)$"
      ],
      "text/plain": [
       "(e) + (-1/2*e)*x + (1/8*e)*x^2 + (1/16*e)*x^3 + (53/1920*e)*x^4 + Order(x^5)"
      ]
     },
     "execution_count": 12,
     "metadata": {},
     "output_type": "execute_result"
    }
   ],
   "source": [
    "%display latex\n",
    "\n",
    "((1 + arctan(x))^(1/x)).series(x==0, 5)"
   ]
  },
  {
   "cell_type": "markdown",
   "id": "99ef454b-97b5-4fb5-8f7b-d8c49b0f5d5b",
   "metadata": {},
   "source": [
    "#### 指令 `taylor`\n",
    "\n",
    "計算在 $x_0$ 處的 Taylor 級數展開，項數為 $n$：\n",
    "\n",
    "    taylor(f(x), x, x0, n)"
   ]
  },
  {
   "cell_type": "code",
   "execution_count": 14,
   "id": "0ae74d06-810a-4fa1-93ae-f7e94838b6cc",
   "metadata": {},
   "outputs": [
    {
     "data": {
      "text/html": [
       "<html>\\(\\displaystyle -\\frac{1291}{11520} \\, x^{5} e + \\frac{53}{1920} \\, x^{4} e + \\frac{1}{16} \\, x^{3} e + \\frac{1}{8} \\, x^{2} e - \\frac{1}{2} \\, x e + e\\)</html>"
      ],
      "text/latex": [
       "$\\displaystyle -\\frac{1291}{11520} \\, x^{5} e + \\frac{53}{1920} \\, x^{4} e + \\frac{1}{16} \\, x^{3} e + \\frac{1}{8} \\, x^{2} e - \\frac{1}{2} \\, x e + e$"
      ],
      "text/plain": [
       "-1291/11520*x^5*e + 53/1920*x^4*e + 1/16*x^3*e + 1/8*x^2*e - 1/2*x*e + e"
      ]
     },
     "execution_count": 14,
     "metadata": {},
     "output_type": "execute_result"
    }
   ],
   "source": [
    "taylor((1 + arctan(x))^(1/x), x, 0, 5)"
   ]
  },
  {
   "cell_type": "markdown",
   "id": "134341e2-1442-476b-8863-5be51041032c",
   "metadata": {},
   "source": [
    "#### 以 Taylor series 展開 $e^{-x} \\sin x$"
   ]
  },
  {
   "cell_type": "code",
   "execution_count": 4,
   "id": "b445c0d4-bea6-4dc4-b20b-cf62e01c8e2e",
   "metadata": {},
   "outputs": [],
   "source": [
    "from sage.repl.ipython_kernel.interact import interact\n",
    "\n",
    "var('x')\n",
    "x0  = 0\n",
    "f   = sin(x)*e^(-x)\n",
    "p   = plot(f,-1,5, thickness=2)\n",
    "dot = point((x0,f(x=x0)),pointsize=80,rgbcolor=(1,0,0))"
   ]
  },
  {
   "cell_type": "code",
   "execution_count": 5,
   "id": "586aba88-b060-4e9c-b473-636524f14ac9",
   "metadata": {},
   "outputs": [
    {
     "data": {
      "application/vnd.jupyter.widget-view+json": {
       "model_id": "6a764aa221e7447e921574963464868c",
       "version_major": 2,
       "version_minor": 0
      },
      "text/plain": [
       "Interactive function <function _ at 0x16a078ea0> with 1 widget\n",
       "  order: Dropdown(description='order', options=(1, 2, 3, 4, 5, 6, 7, 8, 9, 10, 11, 12), value=1)"
      ]
     },
     "metadata": {},
     "output_type": "display_data"
    }
   ],
   "source": [
    "@interact\n",
    "def _(order=[1..12]):\n",
    "    ft = f.taylor(x,x0,order)\n",
    "    pt = plot(ft,-1, 5, color='green', thickness=2)\n",
    "    pretty_print(html(r'$f(x)\\;=\\;%s$'%latex(f)))\n",
    "    pretty_print(html(r'$\\hat{f}(x;%s)\\;=\\;%s+\\mathcal{O}(x^{%s})$'%(x0,latex(ft),order+1)))\n",
    "    show(dot + p + pt, ymin = -.5, ymax = 1)"
   ]
  },
  {
   "cell_type": "markdown",
   "id": "175685b0-641e-461c-b5b4-2dff3c517e26",
   "metadata": {},
   "source": [
    "### 收斂性測試\n",
    "\n",
    "#### Root Test\n",
    "\n",
    "一冪級數 $\\sum_{n=0}^\\infty c_n (x-a)^n$ 若收斂，則\n",
    "\n",
    "$$\n",
    "|x-a| < \\lim_{n\\to \\infty} |c_n|^{-1/n} = r\n",
    "$$\n",
    "\n",
    "$r$ 為收斂半徑。\n",
    "\n",
    "#### 範例\n",
    "\n",
    "級數 $\\sum_{n=1}^\\infty \\frac{(x-3)^n}{2^n n}$ 是否收斂？收斂半徑為何？"
   ]
  },
  {
   "cell_type": "code",
   "execution_count": 8,
   "id": "5d6e9c19-c85f-44a6-95f7-a890bbb52a00",
   "metadata": {},
   "outputs": [
    {
     "data": {
      "text/plain": [
       "2"
      ]
     },
     "execution_count": 8,
     "metadata": {},
     "output_type": "execute_result"
    }
   ],
   "source": [
    "n = var('n')\n",
    "limit(1/(2^n * n)^(-1/n), n=infinity)"
   ]
  },
  {
   "cell_type": "code",
   "execution_count": null,
   "id": "8d4883cf-85f5-4cf7-8c7f-70c8bf8cf293",
   "metadata": {},
   "outputs": [],
   "source": []
  }
 ],
 "metadata": {
  "kernelspec": {
   "display_name": "SageMath 10.4",
   "language": "sage",
   "name": "sagemath-10.4"
  },
  "language_info": {
   "codemirror_mode": {
    "name": "ipython",
    "version": 3
   },
   "file_extension": ".py",
   "mimetype": "text/x-python",
   "name": "python",
   "nbconvert_exporter": "python",
   "pygments_lexer": "ipython3",
   "version": "3.12.4"
  }
 },
 "nbformat": 4,
 "nbformat_minor": 5
}
