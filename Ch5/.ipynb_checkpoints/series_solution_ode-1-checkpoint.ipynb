{
 "cells": [
  {
   "cell_type": "markdown",
   "id": "a8169d3f",
   "metadata": {},
   "source": [
    "# 微分方程式的級數解\n",
    "\n",
    "## 常點 (ordinary point) 解\n",
    "\n",
    "### 微分方程式的級數解概述\n",
    "\n",
    "微分方程式的級數解是一種用冪級數展開解決微分方程式的方法。它的基本思想是假設解 $ y(x) $ 可以表示為以下形式的冪級數：\n",
    "\n",
    "$$\n",
    "y(x) = \\sum_{n=0}^\\infty a_n x^n,\n",
    "$$\n",
    "\n",
    "將此形式代入微分方程，通過匹配各項次數的係數，導出一組遞迴關係，用以計算各級數係數 $ a_n $。這種方法特別適合解具有奇點的微分方程，如 Bessel 方程式等。"
   ]
  },
  {
   "cell_type": "markdown",
   "id": "8abdd747",
   "metadata": {},
   "source": [
    "---\n",
    "\n",
    "### 範例問題\n",
    "\n",
    "解以下微分方程式的冪級數解：\n",
    "\n",
    "$$\n",
    "(x^2+1)y'' + 2x y' = 0,\n",
    "$$\n",
    "\n",
    "並假設解的形式為冪級數展開：\n",
    "\n",
    "$$\n",
    "y(x) = \\sum_{n=0}^\\infty a_n x^n\n",
    "$$\n",
    "\n",
    "利用初始條件：\n",
    "\n",
    "$$\n",
    "y(0) = 0,\\quad y'(0) = 1\n",
    "$$\n",
    "\n",
    "亦即\n",
    "\n",
    "$$\n",
    "a_0 = 0, \\quad a_1 = 1\n",
    "$$\n",
    "\n",
    "求前 10 項展開的解。"
   ]
  },
  {
   "cell_type": "markdown",
   "id": "a013c2e8",
   "metadata": {},
   "source": [
    "---\n",
    "\n",
    "### 一般解法\n",
    "\n",
    "以下是用 SageMath 之 `desolve` 指令求解："
   ]
  },
  {
   "cell_type": "code",
   "execution_count": 1,
   "id": "c5324fa4",
   "metadata": {},
   "outputs": [
    {
     "data": {
      "text/html": [
       "<html>\\(\\displaystyle 2 \\, x \\frac{\\partial}{\\partial x}y\\left(x\\right) + {\\left(x^{2} + 1\\right)} \\frac{\\partial^{2}}{(\\partial x)^{2}}y\\left(x\\right) = 0\\)</html>"
      ],
      "text/latex": [
       "$\\displaystyle 2 \\, x \\frac{\\partial}{\\partial x}y\\left(x\\right) + {\\left(x^{2} + 1\\right)} \\frac{\\partial^{2}}{(\\partial x)^{2}}y\\left(x\\right) = 0$"
      ],
      "text/plain": [
       "2*x*diff(y(x), x) + (x^2 + 1)*diff(y(x), x, x) == 0"
      ]
     },
     "execution_count": 1,
     "metadata": {},
     "output_type": "execute_result"
    }
   ],
   "source": [
    "%display latex\n",
    "x = var('x')\n",
    "y = function('y')(x)\n",
    "de1 = (x^2+1)*diff(y,x,2) + 2*x*diff(y,x) == 0\n",
    "de1"
   ]
  },
  {
   "cell_type": "code",
   "execution_count": 2,
   "id": "6ac91f71",
   "metadata": {},
   "outputs": [
    {
     "data": {
      "text/html": [
       "<html>\\(\\displaystyle \\arctan\\left(x\\right)\\)</html>"
      ],
      "text/latex": [
       "$\\displaystyle \\arctan\\left(x\\right)$"
      ],
      "text/plain": [
       "arctan(x)"
      ]
     },
     "execution_count": 2,
     "metadata": {},
     "output_type": "execute_result"
    }
   ],
   "source": [
    "sol1 = desolve(de1, y, ics=[0,0,1])\n",
    "sol1"
   ]
  },
  {
   "cell_type": "markdown",
   "id": "ec9177ec",
   "metadata": {},
   "source": [
    "將此解用冪級數展開："
   ]
  },
  {
   "cell_type": "code",
   "execution_count": 3,
   "id": "fd55fde0",
   "metadata": {},
   "outputs": [
    {
     "data": {
      "text/html": [
       "<html>\\(\\displaystyle 1 x + {(-\\frac{1}{3})} x^{3} + \\frac{1}{5} x^{5} + {(-\\frac{1}{7})} x^{7} + \\frac{1}{9} x^{9} + \\mathcal{O}\\left(x^{10}\\right)\\)</html>"
      ],
      "text/latex": [
       "$\\displaystyle 1 x + {(-\\frac{1}{3})} x^{3} + \\frac{1}{5} x^{5} + {(-\\frac{1}{7})} x^{7} + \\frac{1}{9} x^{9} + \\mathcal{O}\\left(x^{10}\\right)$"
      ],
      "text/plain": [
       "1*x + (-1/3)*x^3 + 1/5*x^5 + (-1/7)*x^7 + 1/9*x^9 + Order(x^10)"
      ]
     },
     "execution_count": 3,
     "metadata": {},
     "output_type": "execute_result"
    }
   ],
   "source": [
    "sol1.series(x==0, 10)"
   ]
  },
  {
   "cell_type": "markdown",
   "id": "4ff590b1",
   "metadata": {},
   "source": [
    "---\n",
    "\n",
    "### 用 SageMath 解問題\n",
    "\n",
    "以下是用 SageMath 解該問題的詳細步驟："
   ]
  },
  {
   "cell_type": "markdown",
   "id": "83fe3ea0",
   "metadata": {},
   "source": [
    "#### 第一步：定義變數和符號\n",
    "我們需要定義變數 $x$ 和冪級數的係數 $a_n$。"
   ]
  },
  {
   "cell_type": "code",
   "execution_count": 4,
   "id": "5cb313cb",
   "metadata": {},
   "outputs": [],
   "source": [
    "# 定義變數和符號\n",
    "x = var('x')  # 定義變數 x\n",
    "n_terms = 10  # 展開的項數\n",
    "a = [var(f'a_{i}') for i in range(n_terms)]  # 定義符號 a_0, a_1, ..., a_(n_terms-1)"
   ]
  },
  {
   "cell_type": "markdown",
   "id": "c4e7ec88",
   "metadata": {},
   "source": [
    "#### 第二步：假設解為冪級數形式\n",
    "將解表示為冪級數的形式：\n",
    "\n",
    "$$\n",
    "y(x) = \\sum_{n=0}^{n_{\\text{terms}}} a_n x^n\n",
    "$$\n",
    "\n",
    "其中 $n_{\\text{terms}}$ 為展開之項數。在 SageMath 中可以寫為："
   ]
  },
  {
   "cell_type": "code",
   "execution_count": 5,
   "id": "7212f881",
   "metadata": {},
   "outputs": [],
   "source": [
    "# 假設解為冪級數形式, a[i] 為係數串列, i = 0, ..., n_terms\n",
    "y_series = sum(a[i] * x^i for i in range(n_terms))"
   ]
  },
  {
   "cell_type": "markdown",
   "id": "1d3bc2fd",
   "metadata": {},
   "source": [
    "#### 第三步：計算導數\n",
    "我們需要計算一階和二階導數以代入微分方程。"
   ]
  },
  {
   "cell_type": "code",
   "execution_count": 6,
   "id": "81b86ad8",
   "metadata": {},
   "outputs": [],
   "source": [
    "# 計算一階和二階導數\n",
    "y_prime = diff(y_series, x)\n",
    "y_double_prime = diff(y_prime, x)"
   ]
  },
  {
   "cell_type": "markdown",
   "id": "65d3e3a0",
   "metadata": {},
   "source": [
    "#### 第四步：代入微分方程\n",
    "將冪級數和導數代入原方程：\n",
    "\n",
    "$$\n",
    "(x^2+1)y'' + 2x y' = 0,\n",
    "$$"
   ]
  },
  {
   "cell_type": "code",
   "execution_count": 7,
   "id": "48139c00",
   "metadata": {},
   "outputs": [
    {
     "data": {
      "text/html": [
       "<html>\\(\\displaystyle 2 \\, {\\left(171 \\, a_{19} x^{17} + 153 \\, a_{18} x^{16} + 136 \\, a_{17} x^{15} + 120 \\, a_{16} x^{14} + 105 \\, a_{15} x^{13} + 91 \\, a_{14} x^{12} + 78 \\, a_{13} x^{11} + 66 \\, a_{12} x^{10} + 55 \\, a_{11} x^{9} + 45 \\, a_{10} x^{8} + 36 \\, a_{9} x^{7} + 28 \\, a_{8} x^{6} + 21 \\, a_{7} x^{5} + 15 \\, a_{6} x^{4} + 10 \\, a_{5} x^{3} + 6 \\, a_{4} x^{2} + 3 \\, a_{3} x + a_{2}\\right)} {\\left(x^{2} + 1\\right)} + 2 \\, {\\left(19 \\, a_{19} x^{18} + 18 \\, a_{18} x^{17} + 17 \\, a_{17} x^{16} + 16 \\, a_{16} x^{15} + 15 \\, a_{15} x^{14} + 14 \\, a_{14} x^{13} + 13 \\, a_{13} x^{12} + 12 \\, a_{12} x^{11} + 11 \\, a_{11} x^{10} + 10 \\, a_{10} x^{9} + 9 \\, a_{9} x^{8} + 8 \\, a_{8} x^{7} + 7 \\, a_{7} x^{6} + 6 \\, a_{6} x^{5} + 5 \\, a_{5} x^{4} + 4 \\, a_{4} x^{3} + 3 \\, a_{3} x^{2} + 2 \\, a_{2} x + a_{1}\\right)} x\\)</html>"
      ],
      "text/latex": [
       "$\\displaystyle 2 \\, {\\left(171 \\, a_{19} x^{17} + 153 \\, a_{18} x^{16} + 136 \\, a_{17} x^{15} + 120 \\, a_{16} x^{14} + 105 \\, a_{15} x^{13} + 91 \\, a_{14} x^{12} + 78 \\, a_{13} x^{11} + 66 \\, a_{12} x^{10} + 55 \\, a_{11} x^{9} + 45 \\, a_{10} x^{8} + 36 \\, a_{9} x^{7} + 28 \\, a_{8} x^{6} + 21 \\, a_{7} x^{5} + 15 \\, a_{6} x^{4} + 10 \\, a_{5} x^{3} + 6 \\, a_{4} x^{2} + 3 \\, a_{3} x + a_{2}\\right)} {\\left(x^{2} + 1\\right)} + 2 \\, {\\left(19 \\, a_{19} x^{18} + 18 \\, a_{18} x^{17} + 17 \\, a_{17} x^{16} + 16 \\, a_{16} x^{15} + 15 \\, a_{15} x^{14} + 14 \\, a_{14} x^{13} + 13 \\, a_{13} x^{12} + 12 \\, a_{12} x^{11} + 11 \\, a_{11} x^{10} + 10 \\, a_{10} x^{9} + 9 \\, a_{9} x^{8} + 8 \\, a_{8} x^{7} + 7 \\, a_{7} x^{6} + 6 \\, a_{6} x^{5} + 5 \\, a_{5} x^{4} + 4 \\, a_{4} x^{3} + 3 \\, a_{3} x^{2} + 2 \\, a_{2} x + a_{1}\\right)} x$"
      ],
      "text/plain": [
       "2*(171*a_19*x^17 + 153*a_18*x^16 + 136*a_17*x^15 + 120*a_16*x^14 + 105*a_15*x^13 + 91*a_14*x^12 + 78*a_13*x^11 + 66*a_12*x^10 + 55*a_11*x^9 + 45*a_10*x^8 + 36*a_9*x^7 + 28*a_8*x^6 + 21*a_7*x^5 + 15*a_6*x^4 + 10*a_5*x^3 + 6*a_4*x^2 + 3*a_3*x + a_2)*(x^2 + 1) + 2*(19*a_19*x^18 + 18*a_18*x^17 + 17*a_17*x^16 + 16*a_16*x^15 + 15*a_15*x^14 + 14*a_14*x^13 + 13*a_13*x^12 + 12*a_12*x^11 + 11*a_11*x^10 + 10*a_10*x^9 + 9*a_9*x^8 + 8*a_8*x^7 + 7*a_7*x^6 + 6*a_6*x^5 + 5*a_5*x^4 + 4*a_4*x^3 + 3*a_3*x^2 + 2*a_2*x + a_1)*x"
      ]
     },
     "execution_count": 7,
     "metadata": {},
     "output_type": "execute_result"
    }
   ],
   "source": [
    "# 定義二階微分方程\n",
    "ode = (x^2+1) * y_double_prime + 2*x * y_prime\n",
    "ode"
   ]
  },
  {
   "cell_type": "markdown",
   "id": "bcb99085",
   "metadata": {},
   "source": [
    "#### 第五步：展開並匹配係數\n",
    "展開方程並匹配每個次數的係數，形成遞迴關係。"
   ]
  },
  {
   "cell_type": "code",
   "execution_count": 8,
   "id": "a38316d9",
   "metadata": {},
   "outputs": [
    {
     "data": {
      "text/html": [
       "<html>\\(\\displaystyle 380 \\, a_{19} x^{19} + 342 \\, a_{18} x^{18} + 306 \\, a_{17} x^{17} + 342 \\, a_{19} x^{17} + 272 \\, a_{16} x^{16} + 306 \\, a_{18} x^{16} + 240 \\, a_{15} x^{15} + 272 \\, a_{17} x^{15} + 210 \\, a_{14} x^{14} + 240 \\, a_{16} x^{14} + 182 \\, a_{13} x^{13} + 210 \\, a_{15} x^{13} + 156 \\, a_{12} x^{12} + 182 \\, a_{14} x^{12} + 132 \\, a_{11} x^{11} + 156 \\, a_{13} x^{11} + 110 \\, a_{10} x^{10} + 132 \\, a_{12} x^{10} + 110 \\, a_{11} x^{9} + 90 \\, a_{9} x^{9} + 90 \\, a_{10} x^{8} + 72 \\, a_{8} x^{8} + 56 \\, a_{7} x^{7} + 72 \\, a_{9} x^{7} + 42 \\, a_{6} x^{6} + 56 \\, a_{8} x^{6} + 30 \\, a_{5} x^{5} + 42 \\, a_{7} x^{5} + 20 \\, a_{4} x^{4} + 30 \\, a_{6} x^{4} + 12 \\, a_{3} x^{3} + 20 \\, a_{5} x^{3} + 6 \\, a_{2} x^{2} + 12 \\, a_{4} x^{2} + 2 \\, a_{1} x + 6 \\, a_{3} x + 2 \\, a_{2}\\)</html>"
      ],
      "text/latex": [
       "$\\displaystyle 380 \\, a_{19} x^{19} + 342 \\, a_{18} x^{18} + 306 \\, a_{17} x^{17} + 342 \\, a_{19} x^{17} + 272 \\, a_{16} x^{16} + 306 \\, a_{18} x^{16} + 240 \\, a_{15} x^{15} + 272 \\, a_{17} x^{15} + 210 \\, a_{14} x^{14} + 240 \\, a_{16} x^{14} + 182 \\, a_{13} x^{13} + 210 \\, a_{15} x^{13} + 156 \\, a_{12} x^{12} + 182 \\, a_{14} x^{12} + 132 \\, a_{11} x^{11} + 156 \\, a_{13} x^{11} + 110 \\, a_{10} x^{10} + 132 \\, a_{12} x^{10} + 110 \\, a_{11} x^{9} + 90 \\, a_{9} x^{9} + 90 \\, a_{10} x^{8} + 72 \\, a_{8} x^{8} + 56 \\, a_{7} x^{7} + 72 \\, a_{9} x^{7} + 42 \\, a_{6} x^{6} + 56 \\, a_{8} x^{6} + 30 \\, a_{5} x^{5} + 42 \\, a_{7} x^{5} + 20 \\, a_{4} x^{4} + 30 \\, a_{6} x^{4} + 12 \\, a_{3} x^{3} + 20 \\, a_{5} x^{3} + 6 \\, a_{2} x^{2} + 12 \\, a_{4} x^{2} + 2 \\, a_{1} x + 6 \\, a_{3} x + 2 \\, a_{2}$"
      ],
      "text/plain": [
       "380*a_19*x^19 + 342*a_18*x^18 + 306*a_17*x^17 + 342*a_19*x^17 + 272*a_16*x^16 + 306*a_18*x^16 + 240*a_15*x^15 + 272*a_17*x^15 + 210*a_14*x^14 + 240*a_16*x^14 + 182*a_13*x^13 + 210*a_15*x^13 + 156*a_12*x^12 + 182*a_14*x^12 + 132*a_11*x^11 + 156*a_13*x^11 + 110*a_10*x^10 + 132*a_12*x^10 + 110*a_11*x^9 + 90*a_9*x^9 + 90*a_10*x^8 + 72*a_8*x^8 + 56*a_7*x^7 + 72*a_9*x^7 + 42*a_6*x^6 + 56*a_8*x^6 + 30*a_5*x^5 + 42*a_7*x^5 + 20*a_4*x^4 + 30*a_6*x^4 + 12*a_3*x^3 + 20*a_5*x^3 + 6*a_2*x^2 + 12*a_4*x^2 + 2*a_1*x + 6*a_3*x + 2*a_2"
      ]
     },
     "execution_count": 8,
     "metadata": {},
     "output_type": "execute_result"
    }
   ],
   "source": [
    "# 展開微分方程並收集項\n",
    "lhs = ode.expand()\n",
    "lhs"
   ]
  },
  {
   "cell_type": "code",
   "execution_count": 9,
   "id": "a1bef63c",
   "metadata": {},
   "outputs": [
    {
     "data": {
      "text/html": [
       "<html>\\(\\displaystyle \\left[2 \\, a_{2}, 2 \\, a_{1} + 6 \\, a_{3}, 6 \\, a_{2} + 12 \\, a_{4}, 12 \\, a_{3} + 20 \\, a_{5}, 20 \\, a_{4} + 30 \\, a_{6}, 30 \\, a_{5} + 42 \\, a_{7}, 42 \\, a_{6} + 56 \\, a_{8}, 56 \\, a_{7} + 72 \\, a_{9}, 90 \\, a_{10} + 72 \\, a_{8}, 110 \\, a_{11} + 90 \\, a_{9}, 110 \\, a_{10} + 132 \\, a_{12}, 132 \\, a_{11} + 156 \\, a_{13}, 156 \\, a_{12} + 182 \\, a_{14}, 182 \\, a_{13} + 210 \\, a_{15}, 210 \\, a_{14} + 240 \\, a_{16}, 240 \\, a_{15} + 272 \\, a_{17}, 272 \\, a_{16} + 306 \\, a_{18}, 306 \\, a_{17} + 342 \\, a_{19}, 342 \\, a_{18}, 380 \\, a_{19}\\right]\\)</html>"
      ],
      "text/latex": [
       "$\\displaystyle \\left[2 \\, a_{2}, 2 \\, a_{1} + 6 \\, a_{3}, 6 \\, a_{2} + 12 \\, a_{4}, 12 \\, a_{3} + 20 \\, a_{5}, 20 \\, a_{4} + 30 \\, a_{6}, 30 \\, a_{5} + 42 \\, a_{7}, 42 \\, a_{6} + 56 \\, a_{8}, 56 \\, a_{7} + 72 \\, a_{9}, 90 \\, a_{10} + 72 \\, a_{8}, 110 \\, a_{11} + 90 \\, a_{9}, 110 \\, a_{10} + 132 \\, a_{12}, 132 \\, a_{11} + 156 \\, a_{13}, 156 \\, a_{12} + 182 \\, a_{14}, 182 \\, a_{13} + 210 \\, a_{15}, 210 \\, a_{14} + 240 \\, a_{16}, 240 \\, a_{15} + 272 \\, a_{17}, 272 \\, a_{16} + 306 \\, a_{18}, 306 \\, a_{17} + 342 \\, a_{19}, 342 \\, a_{18}, 380 \\, a_{19}\\right]$"
      ],
      "text/plain": [
       "[2*a_2,\n",
       " 2*a_1 + 6*a_3,\n",
       " 6*a_2 + 12*a_4,\n",
       " 12*a_3 + 20*a_5,\n",
       " 20*a_4 + 30*a_6,\n",
       " 30*a_5 + 42*a_7,\n",
       " 42*a_6 + 56*a_8,\n",
       " 56*a_7 + 72*a_9,\n",
       " 90*a_10 + 72*a_8,\n",
       " 110*a_11 + 90*a_9,\n",
       " 110*a_10 + 132*a_12,\n",
       " 132*a_11 + 156*a_13,\n",
       " 156*a_12 + 182*a_14,\n",
       " 182*a_13 + 210*a_15,\n",
       " 210*a_14 + 240*a_16,\n",
       " 240*a_15 + 272*a_17,\n",
       " 272*a_16 + 306*a_18,\n",
       " 306*a_17 + 342*a_19,\n",
       " 342*a_18,\n",
       " 380*a_19]"
      ]
     },
     "execution_count": 9,
     "metadata": {},
     "output_type": "execute_result"
    }
   ],
   "source": [
    "# 匹配係數生成遞迴關係\n",
    "coefficients = lhs.coefficients(x, n_terms)  # 提取各次項係數\n",
    "coefficients"
   ]
  },
  {
   "cell_type": "code",
   "execution_count": 10,
   "id": "81c27316",
   "metadata": {},
   "outputs": [
    {
     "data": {
      "text/html": [
       "<html>\\(\\displaystyle \\left[2 \\, a_{2} = 0, 2 \\, a_{1} + 6 \\, a_{3} = 0, 6 \\, a_{2} + 12 \\, a_{4} = 0, 12 \\, a_{3} + 20 \\, a_{5} = 0, 20 \\, a_{4} + 30 \\, a_{6} = 0, 30 \\, a_{5} + 42 \\, a_{7} = 0, 42 \\, a_{6} + 56 \\, a_{8} = 0, 56 \\, a_{7} + 72 \\, a_{9} = 0, 90 \\, a_{10} + 72 \\, a_{8} = 0, 110 \\, a_{11} + 90 \\, a_{9} = 0, 110 \\, a_{10} + 132 \\, a_{12} = 0, 132 \\, a_{11} + 156 \\, a_{13} = 0, 156 \\, a_{12} + 182 \\, a_{14} = 0, 182 \\, a_{13} + 210 \\, a_{15} = 0, 210 \\, a_{14} + 240 \\, a_{16} = 0, 240 \\, a_{15} + 272 \\, a_{17} = 0, 272 \\, a_{16} + 306 \\, a_{18} = 0, 306 \\, a_{17} + 342 \\, a_{19} = 0, 342 \\, a_{18} = 0, 380 \\, a_{19} = 0\\right]\\)</html>"
      ],
      "text/latex": [
       "$\\displaystyle \\left[2 \\, a_{2} = 0, 2 \\, a_{1} + 6 \\, a_{3} = 0, 6 \\, a_{2} + 12 \\, a_{4} = 0, 12 \\, a_{3} + 20 \\, a_{5} = 0, 20 \\, a_{4} + 30 \\, a_{6} = 0, 30 \\, a_{5} + 42 \\, a_{7} = 0, 42 \\, a_{6} + 56 \\, a_{8} = 0, 56 \\, a_{7} + 72 \\, a_{9} = 0, 90 \\, a_{10} + 72 \\, a_{8} = 0, 110 \\, a_{11} + 90 \\, a_{9} = 0, 110 \\, a_{10} + 132 \\, a_{12} = 0, 132 \\, a_{11} + 156 \\, a_{13} = 0, 156 \\, a_{12} + 182 \\, a_{14} = 0, 182 \\, a_{13} + 210 \\, a_{15} = 0, 210 \\, a_{14} + 240 \\, a_{16} = 0, 240 \\, a_{15} + 272 \\, a_{17} = 0, 272 \\, a_{16} + 306 \\, a_{18} = 0, 306 \\, a_{17} + 342 \\, a_{19} = 0, 342 \\, a_{18} = 0, 380 \\, a_{19} = 0\\right]$"
      ],
      "text/plain": [
       "[2*a_2 == 0,\n",
       " 2*a_1 + 6*a_3 == 0,\n",
       " 6*a_2 + 12*a_4 == 0,\n",
       " 12*a_3 + 20*a_5 == 0,\n",
       " 20*a_4 + 30*a_6 == 0,\n",
       " 30*a_5 + 42*a_7 == 0,\n",
       " 42*a_6 + 56*a_8 == 0,\n",
       " 56*a_7 + 72*a_9 == 0,\n",
       " 90*a_10 + 72*a_8 == 0,\n",
       " 110*a_11 + 90*a_9 == 0,\n",
       " 110*a_10 + 132*a_12 == 0,\n",
       " 132*a_11 + 156*a_13 == 0,\n",
       " 156*a_12 + 182*a_14 == 0,\n",
       " 182*a_13 + 210*a_15 == 0,\n",
       " 210*a_14 + 240*a_16 == 0,\n",
       " 240*a_15 + 272*a_17 == 0,\n",
       " 272*a_16 + 306*a_18 == 0,\n",
       " 306*a_17 + 342*a_19 == 0,\n",
       " 342*a_18 == 0,\n",
       " 380*a_19 == 0]"
      ]
     },
     "execution_count": 10,
     "metadata": {},
     "output_type": "execute_result"
    }
   ],
   "source": [
    "recurrence_eqs = [eq == 0 for eq in coefficients]  # 建立遞迴公式\n",
    "recurrence_eqs"
   ]
  },
  {
   "cell_type": "code",
   "execution_count": 11,
   "id": "29fc2982",
   "metadata": {},
   "outputs": [
    {
     "name": "stdout",
     "output_type": "stream",
     "text": [
      "生成的遞迴關係：\n"
     ]
    },
    {
     "data": {
      "text/html": [
       "<html>\\(\\displaystyle 2 \\, a_{2} = 0\\)</html>"
      ],
      "text/latex": [
       "$\\displaystyle 2 \\, a_{2} = 0$"
      ],
      "text/plain": [
       "2*a_2 == 0"
      ]
     },
     "metadata": {},
     "output_type": "display_data"
    },
    {
     "data": {
      "text/html": [
       "<html>\\(\\displaystyle 2 \\, a_{1} + 6 \\, a_{3} = 0\\)</html>"
      ],
      "text/latex": [
       "$\\displaystyle 2 \\, a_{1} + 6 \\, a_{3} = 0$"
      ],
      "text/plain": [
       "2*a_1 + 6*a_3 == 0"
      ]
     },
     "metadata": {},
     "output_type": "display_data"
    },
    {
     "data": {
      "text/html": [
       "<html>\\(\\displaystyle 6 \\, a_{2} + 12 \\, a_{4} = 0\\)</html>"
      ],
      "text/latex": [
       "$\\displaystyle 6 \\, a_{2} + 12 \\, a_{4} = 0$"
      ],
      "text/plain": [
       "6*a_2 + 12*a_4 == 0"
      ]
     },
     "metadata": {},
     "output_type": "display_data"
    },
    {
     "data": {
      "text/html": [
       "<html>\\(\\displaystyle 12 \\, a_{3} + 20 \\, a_{5} = 0\\)</html>"
      ],
      "text/latex": [
       "$\\displaystyle 12 \\, a_{3} + 20 \\, a_{5} = 0$"
      ],
      "text/plain": [
       "12*a_3 + 20*a_5 == 0"
      ]
     },
     "metadata": {},
     "output_type": "display_data"
    },
    {
     "data": {
      "text/html": [
       "<html>\\(\\displaystyle 20 \\, a_{4} + 30 \\, a_{6} = 0\\)</html>"
      ],
      "text/latex": [
       "$\\displaystyle 20 \\, a_{4} + 30 \\, a_{6} = 0$"
      ],
      "text/plain": [
       "20*a_4 + 30*a_6 == 0"
      ]
     },
     "metadata": {},
     "output_type": "display_data"
    },
    {
     "data": {
      "text/html": [
       "<html>\\(\\displaystyle 30 \\, a_{5} + 42 \\, a_{7} = 0\\)</html>"
      ],
      "text/latex": [
       "$\\displaystyle 30 \\, a_{5} + 42 \\, a_{7} = 0$"
      ],
      "text/plain": [
       "30*a_5 + 42*a_7 == 0"
      ]
     },
     "metadata": {},
     "output_type": "display_data"
    },
    {
     "data": {
      "text/html": [
       "<html>\\(\\displaystyle 42 \\, a_{6} + 56 \\, a_{8} = 0\\)</html>"
      ],
      "text/latex": [
       "$\\displaystyle 42 \\, a_{6} + 56 \\, a_{8} = 0$"
      ],
      "text/plain": [
       "42*a_6 + 56*a_8 == 0"
      ]
     },
     "metadata": {},
     "output_type": "display_data"
    },
    {
     "data": {
      "text/html": [
       "<html>\\(\\displaystyle 56 \\, a_{7} + 72 \\, a_{9} = 0\\)</html>"
      ],
      "text/latex": [
       "$\\displaystyle 56 \\, a_{7} + 72 \\, a_{9} = 0$"
      ],
      "text/plain": [
       "56*a_7 + 72*a_9 == 0"
      ]
     },
     "metadata": {},
     "output_type": "display_data"
    },
    {
     "data": {
      "text/html": [
       "<html>\\(\\displaystyle 90 \\, a_{10} + 72 \\, a_{8} = 0\\)</html>"
      ],
      "text/latex": [
       "$\\displaystyle 90 \\, a_{10} + 72 \\, a_{8} = 0$"
      ],
      "text/plain": [
       "90*a_10 + 72*a_8 == 0"
      ]
     },
     "metadata": {},
     "output_type": "display_data"
    },
    {
     "data": {
      "text/html": [
       "<html>\\(\\displaystyle 110 \\, a_{11} + 90 \\, a_{9} = 0\\)</html>"
      ],
      "text/latex": [
       "$\\displaystyle 110 \\, a_{11} + 90 \\, a_{9} = 0$"
      ],
      "text/plain": [
       "110*a_11 + 90*a_9 == 0"
      ]
     },
     "metadata": {},
     "output_type": "display_data"
    },
    {
     "data": {
      "text/html": [
       "<html>\\(\\displaystyle 110 \\, a_{10} + 132 \\, a_{12} = 0\\)</html>"
      ],
      "text/latex": [
       "$\\displaystyle 110 \\, a_{10} + 132 \\, a_{12} = 0$"
      ],
      "text/plain": [
       "110*a_10 + 132*a_12 == 0"
      ]
     },
     "metadata": {},
     "output_type": "display_data"
    },
    {
     "data": {
      "text/html": [
       "<html>\\(\\displaystyle 132 \\, a_{11} + 156 \\, a_{13} = 0\\)</html>"
      ],
      "text/latex": [
       "$\\displaystyle 132 \\, a_{11} + 156 \\, a_{13} = 0$"
      ],
      "text/plain": [
       "132*a_11 + 156*a_13 == 0"
      ]
     },
     "metadata": {},
     "output_type": "display_data"
    },
    {
     "data": {
      "text/html": [
       "<html>\\(\\displaystyle 156 \\, a_{12} + 182 \\, a_{14} = 0\\)</html>"
      ],
      "text/latex": [
       "$\\displaystyle 156 \\, a_{12} + 182 \\, a_{14} = 0$"
      ],
      "text/plain": [
       "156*a_12 + 182*a_14 == 0"
      ]
     },
     "metadata": {},
     "output_type": "display_data"
    },
    {
     "data": {
      "text/html": [
       "<html>\\(\\displaystyle 182 \\, a_{13} + 210 \\, a_{15} = 0\\)</html>"
      ],
      "text/latex": [
       "$\\displaystyle 182 \\, a_{13} + 210 \\, a_{15} = 0$"
      ],
      "text/plain": [
       "182*a_13 + 210*a_15 == 0"
      ]
     },
     "metadata": {},
     "output_type": "display_data"
    },
    {
     "data": {
      "text/html": [
       "<html>\\(\\displaystyle 210 \\, a_{14} + 240 \\, a_{16} = 0\\)</html>"
      ],
      "text/latex": [
       "$\\displaystyle 210 \\, a_{14} + 240 \\, a_{16} = 0$"
      ],
      "text/plain": [
       "210*a_14 + 240*a_16 == 0"
      ]
     },
     "metadata": {},
     "output_type": "display_data"
    },
    {
     "data": {
      "text/html": [
       "<html>\\(\\displaystyle 240 \\, a_{15} + 272 \\, a_{17} = 0\\)</html>"
      ],
      "text/latex": [
       "$\\displaystyle 240 \\, a_{15} + 272 \\, a_{17} = 0$"
      ],
      "text/plain": [
       "240*a_15 + 272*a_17 == 0"
      ]
     },
     "metadata": {},
     "output_type": "display_data"
    },
    {
     "data": {
      "text/html": [
       "<html>\\(\\displaystyle 272 \\, a_{16} + 306 \\, a_{18} = 0\\)</html>"
      ],
      "text/latex": [
       "$\\displaystyle 272 \\, a_{16} + 306 \\, a_{18} = 0$"
      ],
      "text/plain": [
       "272*a_16 + 306*a_18 == 0"
      ]
     },
     "metadata": {},
     "output_type": "display_data"
    },
    {
     "data": {
      "text/html": [
       "<html>\\(\\displaystyle 306 \\, a_{17} + 342 \\, a_{19} = 0\\)</html>"
      ],
      "text/latex": [
       "$\\displaystyle 306 \\, a_{17} + 342 \\, a_{19} = 0$"
      ],
      "text/plain": [
       "306*a_17 + 342*a_19 == 0"
      ]
     },
     "metadata": {},
     "output_type": "display_data"
    },
    {
     "data": {
      "text/html": [
       "<html>\\(\\displaystyle 342 \\, a_{18} = 0\\)</html>"
      ],
      "text/latex": [
       "$\\displaystyle 342 \\, a_{18} = 0$"
      ],
      "text/plain": [
       "342*a_18 == 0"
      ]
     },
     "metadata": {},
     "output_type": "display_data"
    },
    {
     "data": {
      "text/html": [
       "<html>\\(\\displaystyle 380 \\, a_{19} = 0\\)</html>"
      ],
      "text/latex": [
       "$\\displaystyle 380 \\, a_{19} = 0$"
      ],
      "text/plain": [
       "380*a_19 == 0"
      ]
     },
     "metadata": {},
     "output_type": "display_data"
    }
   ],
   "source": [
    "# 顯示遞迴公式\n",
    "print(\"生成的遞迴關係：\")\n",
    "for eq in recurrence_eqs:\n",
    "    show(eq)"
   ]
  },
  {
   "cell_type": "markdown",
   "id": "c12cd6df",
   "metadata": {},
   "source": [
    "#### 第六步：設定初始條件並遞迴計算\n",
    "設定初始條件 $a_0 = 0, a_1 = 1$："
   ]
  },
  {
   "cell_type": "code",
   "execution_count": 12,
   "id": "06b1cc97",
   "metadata": {},
   "outputs": [],
   "source": [
    "# 初始條件 (設定 a_0 和 a_1 的值)\n",
    "initial_conditions = {a[0]: 0, a[1]: 1}  # 修改此處根據需要設定初始條件\n",
    "coeff_values = initial_conditions.copy()"
   ]
  },
  {
   "cell_type": "markdown",
   "id": "a501a019",
   "metadata": {},
   "source": [
    "計算後續係數 (此段程式可適用不同問題)："
   ]
  },
  {
   "cell_type": "code",
   "execution_count": 13,
   "id": "274755c6",
   "metadata": {},
   "outputs": [],
   "source": [
    "# 遞迴計算具體數值\n",
    "for i in range(2, n_terms):\n",
    "    # 解遞迴公式\n",
    "    solution = solve(recurrence_eqs[i-2], a[i])\n",
    "    if solution:\n",
    "        # 如果 `solve` 返回的是等式列表，提取右側的值\n",
    "        if isinstance(solution, list):\n",
    "            coeff_values[a[i]] = solution[0].rhs().subs(coeff_values).simplify()\n",
    "        else:\n",
    "            coeff_values[a[i]] = solution.rhs().subs(coeff_values).simplify()\n",
    "    else:\n",
    "        coeff_values[a[i]] = 0"
   ]
  },
  {
   "cell_type": "markdown",
   "id": "b7c1a18e",
   "metadata": {},
   "source": [
    "#### 第七步：輸出結果\n",
    "輸出所有計算得到的係數值 (此段程式可適用不同問題)：："
   ]
  },
  {
   "cell_type": "code",
   "execution_count": 14,
   "id": "42272cfb",
   "metadata": {},
   "outputs": [
    {
     "name": "stdout",
     "output_type": "stream",
     "text": [
      "解出的係數值：\n",
      "a_0 = 0.000000000000000\n",
      "a_1 = 1.00000000000000\n",
      "a_2 = 0.000000000000000\n",
      "a_3 = -0.333333333333333\n",
      "a_4 = 0.000000000000000\n",
      "a_5 = 0.200000000000000\n",
      "a_6 = 0.000000000000000\n",
      "a_7 = -0.142857142857143\n",
      "a_8 = 0.000000000000000\n",
      "a_9 = 0.111111111111111\n",
      "a_10 = 0.000000000000000\n",
      "a_11 = -0.0909090909090909\n",
      "a_12 = 0.000000000000000\n",
      "a_13 = 0.0769230769230769\n",
      "a_14 = 0.000000000000000\n",
      "a_15 = -0.0666666666666667\n",
      "a_16 = 0.000000000000000\n",
      "a_17 = 0.0588235294117647\n",
      "a_18 = 0.000000000000000\n",
      "a_19 = -0.0526315789473684\n"
     ]
    }
   ],
   "source": [
    "# 顯示解出的係數數值\n",
    "print(\"解出的係數值：\")\n",
    "for i in range(n_terms):\n",
    "    # 確保數值計算\n",
    "    numeric_value = coeff_values[a[i]].n()\n",
    "    print(f\"a_{i} = {numeric_value}\")"
   ]
  },
  {
   "cell_type": "markdown",
   "id": "53fc1e24",
   "metadata": {},
   "source": [
    "以求出之係數顯示級數解："
   ]
  },
  {
   "cell_type": "code",
   "execution_count": 15,
   "id": "14dc51f3",
   "metadata": {},
   "outputs": [
    {
     "data": {
      "text/html": [
       "<html>\\(\\displaystyle -\\frac{1}{19} \\, x^{19} + \\frac{1}{17} \\, x^{17} - \\frac{1}{15} \\, x^{15} + \\frac{1}{13} \\, x^{13} - \\frac{1}{11} \\, x^{11} + \\frac{1}{9} \\, x^{9} - \\frac{1}{7} \\, x^{7} + \\frac{1}{5} \\, x^{5} - \\frac{1}{3} \\, x^{3} + x\\)</html>"
      ],
      "text/latex": [
       "$\\displaystyle -\\frac{1}{19} \\, x^{19} + \\frac{1}{17} \\, x^{17} - \\frac{1}{15} \\, x^{15} + \\frac{1}{13} \\, x^{13} - \\frac{1}{11} \\, x^{11} + \\frac{1}{9} \\, x^{9} - \\frac{1}{7} \\, x^{7} + \\frac{1}{5} \\, x^{5} - \\frac{1}{3} \\, x^{3} + x$"
      ],
      "text/plain": [
       "-1/19*x^19 + 1/17*x^17 - 1/15*x^15 + 1/13*x^13 - 1/11*x^11 + 1/9*x^9 - 1/7*x^7 + 1/5*x^5 - 1/3*x^3 + x"
      ]
     },
     "execution_count": 15,
     "metadata": {},
     "output_type": "execute_result"
    }
   ],
   "source": [
    "f_approx = sum(coeff_values[a[i]] * x^i for i in range(n_terms))\n",
    "f_approx"
   ]
  },
  {
   "cell_type": "markdown",
   "id": "1e3a0622",
   "metadata": {},
   "source": [
    "與前述正解比較："
   ]
  },
  {
   "cell_type": "code",
   "execution_count": 16,
   "id": "bb897d93",
   "metadata": {},
   "outputs": [
    {
     "data": {
      "image/png": "[encoded data removed]",
      "text/plain": [
       "Graphics object consisting of 2 graphics primitives"
      ]
     },
     "metadata": {},
     "output_type": "display_data"
    }
   ],
   "source": [
    "p1 = plot(f_approx, (x, 0, 1.5), title=\"Series Solution vs. Exact Solution\", legend_label=\"Series\", color=\"blue\")\n",
    "p2 = plot(arctan(x), (x, 0, 1.5), legend_label=\"Exact\", color=\"red\")\n",
    "show(p1+p2)"
   ]
  },
  {
   "cell_type": "code",
   "execution_count": null,
   "id": "bea9791f",
   "metadata": {},
   "outputs": [],
   "source": []
  }
 ],
 "metadata": {
  "kernelspec": {
   "display_name": "SageMath 10.4",
   "language": "sage",
   "name": "sagemath-10.4"
  },
  "language_info": {
   "codemirror_mode": {
    "name": "ipython",
    "version": 3
   },
   "file_extension": ".py",
   "mimetype": "text/x-python",
   "name": "python",
   "nbconvert_exporter": "python",
   "pygments_lexer": "ipython3",
   "version": "3.12.4"
  }
 },
 "nbformat": 4,
 "nbformat_minor": 5
}
