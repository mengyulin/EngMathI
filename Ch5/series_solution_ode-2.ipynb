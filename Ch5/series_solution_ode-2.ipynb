{
 "cells": [
  {
   "cell_type": "markdown",
   "id": "8abdd747",
   "metadata": {},
   "source": [
    "# 微分方程式的級數解\n",
    "\n",
    "## 常點 (ordinary point) 解\n",
    "\n",
    "---\n",
    "\n",
    "### 5.1 節例題 5\n",
    "\n",
    "解以下微分方程式的冪級數解：\n",
    "\n",
    "$$\n",
    "y'' + (\\cos x) y' = 0,\n",
    "$$\n",
    "\n",
    "\n",
    "求前 10 項展開的解。"
   ]
  },
  {
   "cell_type": "markdown",
   "id": "4ff590b1",
   "metadata": {},
   "source": [
    "---\n",
    "\n",
    "### 用 SageMath 解問題\n",
    "\n",
    "以下是用 SageMath 解該問題的詳細步驟："
   ]
  },
  {
   "cell_type": "markdown",
   "id": "83fe3ea0",
   "metadata": {},
   "source": [
    "#### 第一步：定義變數和符號\n",
    "我們需要定義變數 $x$ 和冪級數的係數 $a_n$。"
   ]
  },
  {
   "cell_type": "code",
   "execution_count": 1,
   "id": "5cb313cb",
   "metadata": {},
   "outputs": [],
   "source": [
    "# 定義變數和符號\n",
    "x = var('x')  # 定義變數 x\n",
    "n_terms = 6  # 展開的項數\n",
    "a = [var(f'a_{i}') for i in range(n_terms)]  # 定義符號 a_0, a_1, ..., a_(n_terms-1)"
   ]
  },
  {
   "cell_type": "markdown",
   "id": "c4e7ec88",
   "metadata": {},
   "source": [
    "#### 第二步：假設解為冪級數形式\n",
    "將解表示為冪級數的形式：\n",
    "\n",
    "$$\n",
    "y(x) = \\sum_{n=0}^{n_{\\text{terms}}} a_n x^n\n",
    "$$\n",
    "\n",
    "其中 $n_{\\text{terms}}$ 為展開之項數。在 SageMath 中可以寫為："
   ]
  },
  {
   "cell_type": "code",
   "execution_count": 2,
   "id": "7212f881",
   "metadata": {},
   "outputs": [],
   "source": [
    "# 假設解為冪級數形式, a[i] 為係數串列, i = 0, ..., n_terms\n",
    "y_series = sum(a[i] * x^i for i in range(n_terms))"
   ]
  },
  {
   "cell_type": "markdown",
   "id": "1d3bc2fd",
   "metadata": {},
   "source": [
    "#### 第三步：計算導數\n",
    "我們需要計算一階和二階導數以代入微分方程。"
   ]
  },
  {
   "cell_type": "code",
   "execution_count": 3,
   "id": "81b86ad8",
   "metadata": {},
   "outputs": [],
   "source": [
    "# 計算一階和二階導數\n",
    "y_prime = diff(y_series, x)\n",
    "y_double_prime = diff(y_prime, x)"
   ]
  },
  {
   "cell_type": "markdown",
   "id": "65d3e3a0",
   "metadata": {},
   "source": [
    "#### 第四步：代入微分方程\n",
    "使用冪級數和導數解方程式：\n",
    "\n",
    "$$\n",
    "y'' + (\\cos x) y' = 0,\n",
    "$$\n",
    "\n",
    "須先將 $\\cos x$ 用 `taylor` 指令在 $x=0$ 處展開："
   ]
  },
  {
   "cell_type": "code",
   "execution_count": 4,
   "id": "16ea8b89",
   "metadata": {},
   "outputs": [
    {
     "data": {
      "text/html": [
       "<html>\\(\\displaystyle -\\frac{1}{720} \\, x^{6} + \\frac{1}{24} \\, x^{4} - \\frac{1}{2} \\, x^{2} + 1\\)</html>"
      ],
      "text/latex": [
       "$\\displaystyle -\\frac{1}{720} \\, x^{6} + \\frac{1}{24} \\, x^{4} - \\frac{1}{2} \\, x^{2} + 1$"
      ],
      "text/plain": [
       "-1/720*x^6 + 1/24*x^4 - 1/2*x^2 + 1"
      ]
     },
     "execution_count": 4,
     "metadata": {},
     "output_type": "execute_result"
    }
   ],
   "source": [
    "%display latex\n",
    "cos_series = taylor(cos(x), x, 0, n_terms)\n",
    "cos_series"
   ]
  },
  {
   "cell_type": "code",
   "execution_count": 5,
   "id": "48139c00",
   "metadata": {},
   "outputs": [
    {
     "data": {
      "text/html": [
       "<html>\\(\\displaystyle 20 \\, a_{5} x^{3} + 12 \\, a_{4} x^{2} - \\frac{1}{720} \\, {\\left(a_{5} x^{5} + a_{4} x^{4} + a_{3} x^{3} + a_{2} x^{2} + a_{1} x + a_{0}\\right)} {\\left(x^{6} - 30 \\, x^{4} + 360 \\, x^{2} - 720\\right)} + 6 \\, a_{3} x + 2 \\, a_{2}\\)</html>"
      ],
      "text/latex": [
       "$\\displaystyle 20 \\, a_{5} x^{3} + 12 \\, a_{4} x^{2} - \\frac{1}{720} \\, {\\left(a_{5} x^{5} + a_{4} x^{4} + a_{3} x^{3} + a_{2} x^{2} + a_{1} x + a_{0}\\right)} {\\left(x^{6} - 30 \\, x^{4} + 360 \\, x^{2} - 720\\right)} + 6 \\, a_{3} x + 2 \\, a_{2}$"
      ],
      "text/plain": [
       "20*a_5*x^3 + 12*a_4*x^2 - 1/720*(a_5*x^5 + a_4*x^4 + a_3*x^3 + a_2*x^2 + a_1*x + a_0)*(x^6 - 30*x^4 + 360*x^2 - 720) + 6*a_3*x + 2*a_2"
      ]
     },
     "execution_count": 5,
     "metadata": {},
     "output_type": "execute_result"
    }
   ],
   "source": [
    "# 定義二階微分方程\n",
    "ode = y_double_prime + cos_series * y_series\n",
    "ode"
   ]
  },
  {
   "cell_type": "markdown",
   "id": "bcb99085",
   "metadata": {},
   "source": [
    "#### 第五步：展開並匹配係數\n",
    "展開方程並匹配每個次數的係數，形成遞迴關係。"
   ]
  },
  {
   "cell_type": "code",
   "execution_count": 6,
   "id": "a38316d9",
   "metadata": {},
   "outputs": [
    {
     "data": {
      "text/html": [
       "<html>\\(\\displaystyle -\\frac{1}{720} \\, a_{5} x^{11} - \\frac{1}{720} \\, a_{4} x^{10} - \\frac{1}{720} \\, a_{3} x^{9} + \\frac{1}{24} \\, a_{5} x^{9} - \\frac{1}{720} \\, a_{2} x^{8} + \\frac{1}{24} \\, a_{4} x^{8} - \\frac{1}{720} \\, a_{1} x^{7} + \\frac{1}{24} \\, a_{3} x^{7} - \\frac{1}{2} \\, a_{5} x^{7} - \\frac{1}{720} \\, a_{0} x^{6} + \\frac{1}{24} \\, a_{2} x^{6} - \\frac{1}{2} \\, a_{4} x^{6} + \\frac{1}{24} \\, a_{1} x^{5} - \\frac{1}{2} \\, a_{3} x^{5} + a_{5} x^{5} + \\frac{1}{24} \\, a_{0} x^{4} - \\frac{1}{2} \\, a_{2} x^{4} + a_{4} x^{4} - \\frac{1}{2} \\, a_{1} x^{3} + a_{3} x^{3} + 20 \\, a_{5} x^{3} - \\frac{1}{2} \\, a_{0} x^{2} + a_{2} x^{2} + 12 \\, a_{4} x^{2} + a_{1} x + 6 \\, a_{3} x + a_{0} + 2 \\, a_{2}\\)</html>"
      ],
      "text/latex": [
       "$\\displaystyle -\\frac{1}{720} \\, a_{5} x^{11} - \\frac{1}{720} \\, a_{4} x^{10} - \\frac{1}{720} \\, a_{3} x^{9} + \\frac{1}{24} \\, a_{5} x^{9} - \\frac{1}{720} \\, a_{2} x^{8} + \\frac{1}{24} \\, a_{4} x^{8} - \\frac{1}{720} \\, a_{1} x^{7} + \\frac{1}{24} \\, a_{3} x^{7} - \\frac{1}{2} \\, a_{5} x^{7} - \\frac{1}{720} \\, a_{0} x^{6} + \\frac{1}{24} \\, a_{2} x^{6} - \\frac{1}{2} \\, a_{4} x^{6} + \\frac{1}{24} \\, a_{1} x^{5} - \\frac{1}{2} \\, a_{3} x^{5} + a_{5} x^{5} + \\frac{1}{24} \\, a_{0} x^{4} - \\frac{1}{2} \\, a_{2} x^{4} + a_{4} x^{4} - \\frac{1}{2} \\, a_{1} x^{3} + a_{3} x^{3} + 20 \\, a_{5} x^{3} - \\frac{1}{2} \\, a_{0} x^{2} + a_{2} x^{2} + 12 \\, a_{4} x^{2} + a_{1} x + 6 \\, a_{3} x + a_{0} + 2 \\, a_{2}$"
      ],
      "text/plain": [
       "-1/720*a_5*x^11 - 1/720*a_4*x^10 - 1/720*a_3*x^9 + 1/24*a_5*x^9 - 1/720*a_2*x^8 + 1/24*a_4*x^8 - 1/720*a_1*x^7 + 1/24*a_3*x^7 - 1/2*a_5*x^7 - 1/720*a_0*x^6 + 1/24*a_2*x^6 - 1/2*a_4*x^6 + 1/24*a_1*x^5 - 1/2*a_3*x^5 + a_5*x^5 + 1/24*a_0*x^4 - 1/2*a_2*x^4 + a_4*x^4 - 1/2*a_1*x^3 + a_3*x^3 + 20*a_5*x^3 - 1/2*a_0*x^2 + a_2*x^2 + 12*a_4*x^2 + a_1*x + 6*a_3*x + a_0 + 2*a_2"
      ]
     },
     "execution_count": 6,
     "metadata": {},
     "output_type": "execute_result"
    }
   ],
   "source": [
    "# 展開微分方程並收集項\n",
    "lhs = ode.expand()\n",
    "lhs"
   ]
  },
  {
   "cell_type": "code",
   "execution_count": 7,
   "id": "a1bef63c",
   "metadata": {},
   "outputs": [
    {
     "data": {
      "text/html": [
       "<html>\\(\\displaystyle \\left[a_{0} + 2 \\, a_{2}, a_{1} + 6 \\, a_{3}, -\\frac{1}{2} \\, a_{0} + a_{2} + 12 \\, a_{4}, -\\frac{1}{2} \\, a_{1} + a_{3} + 20 \\, a_{5}, \\frac{1}{24} \\, a_{0} - \\frac{1}{2} \\, a_{2} + a_{4}, \\frac{1}{24} \\, a_{1} - \\frac{1}{2} \\, a_{3} + a_{5}, -\\frac{1}{720} \\, a_{0} + \\frac{1}{24} \\, a_{2} - \\frac{1}{2} \\, a_{4}, -\\frac{1}{720} \\, a_{1} + \\frac{1}{24} \\, a_{3} - \\frac{1}{2} \\, a_{5}, -\\frac{1}{720} \\, a_{2} + \\frac{1}{24} \\, a_{4}, -\\frac{1}{720} \\, a_{3} + \\frac{1}{24} \\, a_{5}, -\\frac{1}{720} \\, a_{4}, -\\frac{1}{720} \\, a_{5}\\right]\\)</html>"
      ],
      "text/latex": [
       "$\\displaystyle \\left[a_{0} + 2 \\, a_{2}, a_{1} + 6 \\, a_{3}, -\\frac{1}{2} \\, a_{0} + a_{2} + 12 \\, a_{4}, -\\frac{1}{2} \\, a_{1} + a_{3} + 20 \\, a_{5}, \\frac{1}{24} \\, a_{0} - \\frac{1}{2} \\, a_{2} + a_{4}, \\frac{1}{24} \\, a_{1} - \\frac{1}{2} \\, a_{3} + a_{5}, -\\frac{1}{720} \\, a_{0} + \\frac{1}{24} \\, a_{2} - \\frac{1}{2} \\, a_{4}, -\\frac{1}{720} \\, a_{1} + \\frac{1}{24} \\, a_{3} - \\frac{1}{2} \\, a_{5}, -\\frac{1}{720} \\, a_{2} + \\frac{1}{24} \\, a_{4}, -\\frac{1}{720} \\, a_{3} + \\frac{1}{24} \\, a_{5}, -\\frac{1}{720} \\, a_{4}, -\\frac{1}{720} \\, a_{5}\\right]$"
      ],
      "text/plain": [
       "[a_0 + 2*a_2,\n",
       " a_1 + 6*a_3,\n",
       " -1/2*a_0 + a_2 + 12*a_4,\n",
       " -1/2*a_1 + a_3 + 20*a_5,\n",
       " 1/24*a_0 - 1/2*a_2 + a_4,\n",
       " 1/24*a_1 - 1/2*a_3 + a_5,\n",
       " -1/720*a_0 + 1/24*a_2 - 1/2*a_4,\n",
       " -1/720*a_1 + 1/24*a_3 - 1/2*a_5,\n",
       " -1/720*a_2 + 1/24*a_4,\n",
       " -1/720*a_3 + 1/24*a_5,\n",
       " -1/720*a_4,\n",
       " -1/720*a_5]"
      ]
     },
     "execution_count": 7,
     "metadata": {},
     "output_type": "execute_result"
    }
   ],
   "source": [
    "# 匹配係數生成遞迴關係\n",
    "coefficients = lhs.coefficients(x, n_terms)  # 提取各次項係數\n",
    "coefficients"
   ]
  },
  {
   "cell_type": "code",
   "execution_count": 8,
   "id": "81c27316",
   "metadata": {},
   "outputs": [
    {
     "data": {
      "text/html": [
       "<html>\\(\\displaystyle \\left[a_{0} + 2 \\, a_{2} = 0, a_{1} + 6 \\, a_{3} = 0, -\\frac{1}{2} \\, a_{0} + a_{2} + 12 \\, a_{4} = 0, -\\frac{1}{2} \\, a_{1} + a_{3} + 20 \\, a_{5} = 0, \\frac{1}{24} \\, a_{0} - \\frac{1}{2} \\, a_{2} + a_{4} = 0, \\frac{1}{24} \\, a_{1} - \\frac{1}{2} \\, a_{3} + a_{5} = 0, -\\frac{1}{720} \\, a_{0} + \\frac{1}{24} \\, a_{2} - \\frac{1}{2} \\, a_{4} = 0, -\\frac{1}{720} \\, a_{1} + \\frac{1}{24} \\, a_{3} - \\frac{1}{2} \\, a_{5} = 0, -\\frac{1}{720} \\, a_{2} + \\frac{1}{24} \\, a_{4} = 0, -\\frac{1}{720} \\, a_{3} + \\frac{1}{24} \\, a_{5} = 0, -\\frac{1}{720} \\, a_{4} = 0, -\\frac{1}{720} \\, a_{5} = 0\\right]\\)</html>"
      ],
      "text/latex": [
       "$\\displaystyle \\left[a_{0} + 2 \\, a_{2} = 0, a_{1} + 6 \\, a_{3} = 0, -\\frac{1}{2} \\, a_{0} + a_{2} + 12 \\, a_{4} = 0, -\\frac{1}{2} \\, a_{1} + a_{3} + 20 \\, a_{5} = 0, \\frac{1}{24} \\, a_{0} - \\frac{1}{2} \\, a_{2} + a_{4} = 0, \\frac{1}{24} \\, a_{1} - \\frac{1}{2} \\, a_{3} + a_{5} = 0, -\\frac{1}{720} \\, a_{0} + \\frac{1}{24} \\, a_{2} - \\frac{1}{2} \\, a_{4} = 0, -\\frac{1}{720} \\, a_{1} + \\frac{1}{24} \\, a_{3} - \\frac{1}{2} \\, a_{5} = 0, -\\frac{1}{720} \\, a_{2} + \\frac{1}{24} \\, a_{4} = 0, -\\frac{1}{720} \\, a_{3} + \\frac{1}{24} \\, a_{5} = 0, -\\frac{1}{720} \\, a_{4} = 0, -\\frac{1}{720} \\, a_{5} = 0\\right]$"
      ],
      "text/plain": [
       "[a_0 + 2*a_2 == 0,\n",
       " a_1 + 6*a_3 == 0,\n",
       " -1/2*a_0 + a_2 + 12*a_4 == 0,\n",
       " -1/2*a_1 + a_3 + 20*a_5 == 0,\n",
       " 1/24*a_0 - 1/2*a_2 + a_4 == 0,\n",
       " 1/24*a_1 - 1/2*a_3 + a_5 == 0,\n",
       " -1/720*a_0 + 1/24*a_2 - 1/2*a_4 == 0,\n",
       " -1/720*a_1 + 1/24*a_3 - 1/2*a_5 == 0,\n",
       " -1/720*a_2 + 1/24*a_4 == 0,\n",
       " -1/720*a_3 + 1/24*a_5 == 0,\n",
       " -1/720*a_4 == 0,\n",
       " -1/720*a_5 == 0]"
      ]
     },
     "execution_count": 8,
     "metadata": {},
     "output_type": "execute_result"
    }
   ],
   "source": [
    "recurrence_eqs = [eq == 0 for eq in coefficients]  # 建立遞迴公式\n",
    "recurrence_eqs"
   ]
  },
  {
   "cell_type": "code",
   "execution_count": 9,
   "id": "29fc2982",
   "metadata": {},
   "outputs": [
    {
     "name": "stdout",
     "output_type": "stream",
     "text": [
      "生成的遞迴關係：\n"
     ]
    },
    {
     "data": {
      "text/html": [
       "<html>\\(\\displaystyle a_{0} + 2 \\, a_{2} = 0\\)</html>"
      ],
      "text/latex": [
       "$\\displaystyle a_{0} + 2 \\, a_{2} = 0$"
      ],
      "text/plain": [
       "a_0 + 2*a_2 == 0"
      ]
     },
     "metadata": {},
     "output_type": "display_data"
    },
    {
     "data": {
      "text/html": [
       "<html>\\(\\displaystyle a_{1} + 6 \\, a_{3} = 0\\)</html>"
      ],
      "text/latex": [
       "$\\displaystyle a_{1} + 6 \\, a_{3} = 0$"
      ],
      "text/plain": [
       "a_1 + 6*a_3 == 0"
      ]
     },
     "metadata": {},
     "output_type": "display_data"
    },
    {
     "data": {
      "text/html": [
       "<html>\\(\\displaystyle -\\frac{1}{2} \\, a_{0} + a_{2} + 12 \\, a_{4} = 0\\)</html>"
      ],
      "text/latex": [
       "$\\displaystyle -\\frac{1}{2} \\, a_{0} + a_{2} + 12 \\, a_{4} = 0$"
      ],
      "text/plain": [
       "-1/2*a_0 + a_2 + 12*a_4 == 0"
      ]
     },
     "metadata": {},
     "output_type": "display_data"
    },
    {
     "data": {
      "text/html": [
       "<html>\\(\\displaystyle -\\frac{1}{2} \\, a_{1} + a_{3} + 20 \\, a_{5} = 0\\)</html>"
      ],
      "text/latex": [
       "$\\displaystyle -\\frac{1}{2} \\, a_{1} + a_{3} + 20 \\, a_{5} = 0$"
      ],
      "text/plain": [
       "-1/2*a_1 + a_3 + 20*a_5 == 0"
      ]
     },
     "metadata": {},
     "output_type": "display_data"
    },
    {
     "data": {
      "text/html": [
       "<html>\\(\\displaystyle \\frac{1}{24} \\, a_{0} - \\frac{1}{2} \\, a_{2} + a_{4} = 0\\)</html>"
      ],
      "text/latex": [
       "$\\displaystyle \\frac{1}{24} \\, a_{0} - \\frac{1}{2} \\, a_{2} + a_{4} = 0$"
      ],
      "text/plain": [
       "1/24*a_0 - 1/2*a_2 + a_4 == 0"
      ]
     },
     "metadata": {},
     "output_type": "display_data"
    },
    {
     "data": {
      "text/html": [
       "<html>\\(\\displaystyle \\frac{1}{24} \\, a_{1} - \\frac{1}{2} \\, a_{3} + a_{5} = 0\\)</html>"
      ],
      "text/latex": [
       "$\\displaystyle \\frac{1}{24} \\, a_{1} - \\frac{1}{2} \\, a_{3} + a_{5} = 0$"
      ],
      "text/plain": [
       "1/24*a_1 - 1/2*a_3 + a_5 == 0"
      ]
     },
     "metadata": {},
     "output_type": "display_data"
    },
    {
     "data": {
      "text/html": [
       "<html>\\(\\displaystyle -\\frac{1}{720} \\, a_{0} + \\frac{1}{24} \\, a_{2} - \\frac{1}{2} \\, a_{4} = 0\\)</html>"
      ],
      "text/latex": [
       "$\\displaystyle -\\frac{1}{720} \\, a_{0} + \\frac{1}{24} \\, a_{2} - \\frac{1}{2} \\, a_{4} = 0$"
      ],
      "text/plain": [
       "-1/720*a_0 + 1/24*a_2 - 1/2*a_4 == 0"
      ]
     },
     "metadata": {},
     "output_type": "display_data"
    },
    {
     "data": {
      "text/html": [
       "<html>\\(\\displaystyle -\\frac{1}{720} \\, a_{1} + \\frac{1}{24} \\, a_{3} - \\frac{1}{2} \\, a_{5} = 0\\)</html>"
      ],
      "text/latex": [
       "$\\displaystyle -\\frac{1}{720} \\, a_{1} + \\frac{1}{24} \\, a_{3} - \\frac{1}{2} \\, a_{5} = 0$"
      ],
      "text/plain": [
       "-1/720*a_1 + 1/24*a_3 - 1/2*a_5 == 0"
      ]
     },
     "metadata": {},
     "output_type": "display_data"
    },
    {
     "data": {
      "text/html": [
       "<html>\\(\\displaystyle -\\frac{1}{720} \\, a_{2} + \\frac{1}{24} \\, a_{4} = 0\\)</html>"
      ],
      "text/latex": [
       "$\\displaystyle -\\frac{1}{720} \\, a_{2} + \\frac{1}{24} \\, a_{4} = 0$"
      ],
      "text/plain": [
       "-1/720*a_2 + 1/24*a_4 == 0"
      ]
     },
     "metadata": {},
     "output_type": "display_data"
    },
    {
     "data": {
      "text/html": [
       "<html>\\(\\displaystyle -\\frac{1}{720} \\, a_{3} + \\frac{1}{24} \\, a_{5} = 0\\)</html>"
      ],
      "text/latex": [
       "$\\displaystyle -\\frac{1}{720} \\, a_{3} + \\frac{1}{24} \\, a_{5} = 0$"
      ],
      "text/plain": [
       "-1/720*a_3 + 1/24*a_5 == 0"
      ]
     },
     "metadata": {},
     "output_type": "display_data"
    },
    {
     "data": {
      "text/html": [
       "<html>\\(\\displaystyle -\\frac{1}{720} \\, a_{4} = 0\\)</html>"
      ],
      "text/latex": [
       "$\\displaystyle -\\frac{1}{720} \\, a_{4} = 0$"
      ],
      "text/plain": [
       "-1/720*a_4 == 0"
      ]
     },
     "metadata": {},
     "output_type": "display_data"
    },
    {
     "data": {
      "text/html": [
       "<html>\\(\\displaystyle -\\frac{1}{720} \\, a_{5} = 0\\)</html>"
      ],
      "text/latex": [
       "$\\displaystyle -\\frac{1}{720} \\, a_{5} = 0$"
      ],
      "text/plain": [
       "-1/720*a_5 == 0"
      ]
     },
     "metadata": {},
     "output_type": "display_data"
    }
   ],
   "source": [
    "# 顯示遞迴公式\n",
    "print(\"生成的遞迴關係：\")\n",
    "for eq in recurrence_eqs:\n",
    "    show(eq)"
   ]
  },
  {
   "cell_type": "markdown",
   "id": "c12cd6df",
   "metadata": {},
   "source": [
    "#### 第六步：設定初始條件並遞迴計算\n",
    "設定初始條件 $a_0 = 0, a_1 = 1$："
   ]
  },
  {
   "cell_type": "code",
   "execution_count": 10,
   "id": "06b1cc97",
   "metadata": {},
   "outputs": [],
   "source": [
    "# 初始條件 (設定 a_0 和 a_1 的值)\n",
    "initial_conditions = {a[0]: 1, a[1]: 1}  # 修改此處根據需要設定初始條件\n",
    "coeff_values = initial_conditions.copy()"
   ]
  },
  {
   "cell_type": "markdown",
   "id": "a501a019",
   "metadata": {},
   "source": [
    "計算後續係數 ："
   ]
  },
  {
   "cell_type": "code",
   "execution_count": 11,
   "id": "274755c6",
   "metadata": {},
   "outputs": [],
   "source": [
    "# 遞迴計算具體數值\n",
    "for i in range(2, n_terms):\n",
    "    # 解遞迴公式\n",
    "    solution = solve(recurrence_eqs[i-2], a[i])\n",
    "    if solution:\n",
    "        # 如果 `solve` 返回的是等式列表，提取右側的值\n",
    "        if isinstance(solution, list):\n",
    "            coeff_values[a[i]] = solution[0].rhs().subs(coeff_values).simplify()\n",
    "        else:\n",
    "            coeff_values[a[i]] = solution.rhs().subs(coeff_values).simplify()\n",
    "    else:\n",
    "        coeff_values[a[i]] = 0"
   ]
  },
  {
   "cell_type": "markdown",
   "id": "b7c1a18e",
   "metadata": {},
   "source": [
    "#### 第七步：輸出結果\n",
    "輸出所有計算得到的係數值："
   ]
  },
  {
   "cell_type": "code",
   "execution_count": 12,
   "id": "42272cfb",
   "metadata": {},
   "outputs": [
    {
     "name": "stdout",
     "output_type": "stream",
     "text": [
      "解出的係數值：\n",
      "a_0 = 1.00000000000000\n",
      "a_1 = 1.00000000000000\n",
      "a_2 = -0.500000000000000\n",
      "a_3 = -0.166666666666667\n",
      "a_4 = 0.0833333333333333\n",
      "a_5 = 0.0333333333333333\n"
     ]
    }
   ],
   "source": [
    "# 顯示解出的係數數值\n",
    "print(\"解出的係數值：\")\n",
    "for i in range(n_terms):\n",
    "    # 確保數值計算\n",
    "    numeric_value = coeff_values[a[i]].n()\n",
    "    print(f\"a_{i} = {numeric_value}\")"
   ]
  },
  {
   "cell_type": "markdown",
   "id": "b5db967b",
   "metadata": {},
   "source": [
    "以求出之係數顯示級數解："
   ]
  },
  {
   "cell_type": "code",
   "execution_count": 13,
   "id": "14dc51f3",
   "metadata": {},
   "outputs": [
    {
     "data": {
      "text/html": [
       "<html>\\(\\displaystyle \\frac{1}{30} \\, x^{5} + \\frac{1}{12} \\, x^{4} - \\frac{1}{6} \\, x^{3} - \\frac{1}{2} \\, x^{2} + x + 1\\)</html>"
      ],
      "text/latex": [
       "$\\displaystyle \\frac{1}{30} \\, x^{5} + \\frac{1}{12} \\, x^{4} - \\frac{1}{6} \\, x^{3} - \\frac{1}{2} \\, x^{2} + x + 1$"
      ],
      "text/plain": [
       "1/30*x^5 + 1/12*x^4 - 1/6*x^3 - 1/2*x^2 + x + 1"
      ]
     },
     "execution_count": 13,
     "metadata": {},
     "output_type": "execute_result"
    }
   ],
   "source": [
    "f_approx = sum(coeff_values[a[i]] * x^i for i in range(n_terms))\n",
    "f_approx"
   ]
  },
  {
   "cell_type": "markdown",
   "id": "d0726d65",
   "metadata": {},
   "source": [
    "與前述正解比較："
   ]
  },
  {
   "cell_type": "code",
   "execution_count": 15,
   "id": "bb897d93",
   "metadata": {},
   "outputs": [
    {
     "data": {
      "image/png": "[encoded data removed]",
      "text/plain": [
       "Graphics object consisting of 1 graphics primitive"
      ]
     },
     "metadata": {},
     "output_type": "display_data"
    }
   ],
   "source": [
    "p1 = plot(f_approx, (x, 0, 2), title=\"Series Solution vs. Exact Solution\", legend_label=\"Series\", color=\"blue\")\n",
    "#p2 = plot(arctan(x), (x, 0, 1.5), legend_label=\"Exact\", color=\"red\")\n",
    "show(p1)\n",
    "#show(p1+p2)"
   ]
  },
  {
   "cell_type": "markdown",
   "id": "25506d51",
   "metadata": {},
   "source": [
    "### 後續討論\n",
    "\n",
    "1. 展開階數與精確度關係？\n",
    "2. 如何分析誤差？"
   ]
  },
  {
   "cell_type": "code",
   "execution_count": null,
   "id": "0d962328",
   "metadata": {},
   "outputs": [],
   "source": []
  }
 ],
 "metadata": {
  "kernelspec": {
   "display_name": "SageMath 10.4",
   "language": "sage",
   "name": "sagemath-10.4"
  },
  "language_info": {
   "codemirror_mode": {
    "name": "ipython",
    "version": 3
   },
   "file_extension": ".py",
   "mimetype": "text/x-python",
   "name": "python",
   "nbconvert_exporter": "python",
   "pygments_lexer": "ipython3",
   "version": "3.12.4"
  }
 },
 "nbformat": 4,
 "nbformat_minor": 5
}
