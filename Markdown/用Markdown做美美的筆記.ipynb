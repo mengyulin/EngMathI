{
 "cells": [
  {
   "cell_type": "markdown",
   "metadata": {
    "slideshow": {
     "slide_type": "subslide"
    }
   },
   "source": [
    "# 我們來學 Markdown\n",
    "\n",
    "Markdown 是一種標準語法, 很方便快速的可以做簡單排版。非常多的 app 都有支援, 可以參考\n",
    "\n",
    "[Markdown 語法簡介](https://markdown.tw)"
   ]
  },
  {
   "cell_type": "markdown",
   "metadata": {
    "slideshow": {
     "slide_type": "subslide"
    }
   },
   "source": [
    "***\n",
    "## 1. 標題\n",
    "\n",
    "Cell 可以選 `Markdown` 模式, 就可以用 `Markdown` 語法做筆記。\n",
    "\n",
    "### 標題範例\n",
    "\n",
    "\n",
    "`# 我們來學 Markdown`\n",
    "\n",
    "# 我們來學 Markdown\n",
    "\n",
    "`## 副標題`\n",
    "## 副標題"
   ]
  },
  {
   "cell_type": "markdown",
   "metadata": {
    "slideshow": {
     "slide_type": "subslide"
    }
   },
   "source": [
    "## 第二大的標題\n",
    "### 第三大的標題\n",
    "\n",
    "正常的內文會像，呃，正常的內文顯示出來。"
   ]
  },
  {
   "cell_type": "markdown",
   "metadata": {
    "slideshow": {
     "slide_type": "subslide"
    }
   },
   "source": [
    "***\n",
    "## 2. 項目符號\n",
    "\n",
    "### 範例\n",
    "\n",
    "我們要學以下幾個套件:\n",
    "\n",
    "* `matplotlib`\n",
    "* `numpy`\n",
    "* `pandas`\n",
    "* `scikit-learn`"
   ]
  },
  {
   "cell_type": "markdown",
   "metadata": {
    "slideshow": {
     "slide_type": "subslide"
    }
   },
   "source": [
    "***\n",
    "## 3. 編號\n",
    "\n",
    "### 範例\n",
    "\n",
    "我們要學以下幾個套件:\n",
    "\n",
    "1. `matplotlib`\n",
    "2. `numpy`\n",
    "3. `pandas`\n",
    "4. `scikit-learn`"
   ]
  },
  {
   "cell_type": "markdown",
   "metadata": {},
   "source": [
    "***\n",
    "## 4. 輸入數學符號\n",
    "\n",
    "支援 LaTeX 指令。\n",
    "\n",
    "### 隨文模式\n",
    "\n",
    "例如\n",
    "\n",
    "    設我們有函數 $f(x) = x^3 - 2x + 5$。\n",
    "    \n",
    "結果為：\n",
    "\n",
    "設我們有函數 $f(x)=     x^3-2x      +5$。\n",
    "\n",
    "### 展式模式\n",
    "\n",
    "例如\n",
    "\n",
    "    我們來算個積分：$$\\int_a^b f(x) \\, dx$$\n",
    "\n",
    "我們來算個積分：$$\\int_a^b f(x)\\, dx$$\n",
    "\n",
    "### 常用數學符號指令\n",
    "\n",
    "見連結：[常用 LaTeX 數學符號指令](https://hackmd.io/@CynthiaChuang/Basic-LaTeX-Commands#%E7%9B%AE%E9%8C%84)\n",
    "\n",
    "### 詳細指令\n",
    "\n",
    "見連結：[LaTeX 數學排版](https://www.cs.pu.edu.tw/~wckuo/doc/latex123/node11.html)"
   ]
  },
  {
   "cell_type": "markdown",
   "metadata": {},
   "source": [
    "***\n",
    "## 5. 插入網頁\n",
    "\n",
    "格式如下\n",
    "\n",
    "    [網頁名稱](URL)\n",
    "    \n",
    "例如\n",
    "\n",
    "    [炎龍老師的 Blog](https://yenlung.blog)\n",
    "    \n",
    "結果: [炎龍老師的 Blog](https://yenlung.blog)"
   ]
  },
  {
   "cell_type": "markdown",
   "metadata": {},
   "source": [
    "***\n",
    "## 6. 程式碼\n",
    "\n",
    "顯示程式碼有幾種方式。\n",
    "\n",
    "#### [1] 前面有若干空白\n",
    "\n",
    "    for i in range(10):\n",
    "        print(i)\n",
    "        \n",
    "#### [2] 內文可以用斜引號\n",
    "\n",
    "    `matplotlib`\n",
    "\n",
    "顯示為：\n",
    "`matplotlib`\n",
    "    \n",
    "#### [3] 還可以用 3 個引號外加語言\n",
    "\n",
    "    ```python\n",
    "    for i in range(10):\n",
    "        print(i)\n",
    "    ```\n",
    "顯示為\n",
    "\n",
    "```python\n",
    "for i in range(10):\n",
    "    print(i)\n",
    "```"
   ]
  },
  {
   "cell_type": "markdown",
   "metadata": {},
   "source": [
    "***\n",
    "## 7. 插入圖片\n",
    "\n",
    "    ![圖片名稱](圖片路徑)\n",
    "    \n",
    "例如\n",
    "\n",
    "    ![可愛小豬](pig.png)\n",
    "    \n",
    "![Happy Python](pig.png)"
   ]
  },
  {
   "cell_type": "markdown",
   "metadata": {},
   "source": [
    "***\n",
    "## 8. 表格\n",
    "\n",
    "魔術指令 | 功能\n",
    "--------|-----\n",
    "cd      | 變換目前工作資料夾\n",
    "ls      | 列出當前資料夾下的檔案\n",
    "save    | 儲存檔案"
   ]
  },
  {
   "cell_type": "markdown",
   "metadata": {},
   "source": [
    "### 表格對齊方式設定\n",
    "\n",
    "魔術指令 | 功能\n",
    ":--------:|:-----\n",
    "cd      | 變換目前工作資料夾\n",
    "ls      | 列出當前資料夾下的檔案\n",
    "save    | 儲存檔案"
   ]
  }
 ],
 "metadata": {
  "kernelspec": {
   "display_name": "Python 3 (ipykernel)",
   "language": "python",
   "name": "python3"
  },
  "language_info": {
   "codemirror_mode": {
    "name": "ipython",
    "version": 3
   },
   "file_extension": ".py",
   "mimetype": "text/x-python",
   "name": "python",
   "nbconvert_exporter": "python",
   "pygments_lexer": "ipython3",
   "version": "3.8.17"
  }
 },
 "nbformat": 4,
 "nbformat_minor": 1
}
