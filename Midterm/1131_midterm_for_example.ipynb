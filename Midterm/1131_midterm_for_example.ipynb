{
 "cells": [
  {
   "cell_type": "markdown",
   "id": "bd48e9bd-26c8-40eb-be03-5e41d931a3d6",
   "metadata": {},
   "source": [
    "# 113-1 工程數學(一) 期中考試"
   ]
  },
  {
   "cell_type": "code",
   "execution_count": 1,
   "id": "ff128fea-c0fb-4708-82b9-c74f403a04a6",
   "metadata": {},
   "outputs": [],
   "source": [
    "x = var('x'); y = function('y')(x)\n",
    "#%display plain\n"
   ]
  },
  {
   "cell_type": "markdown",
   "id": "f954f2d3-15a6-494a-91c1-5d6aa5ca9e3b",
   "metadata": {},
   "source": [
    "___\n",
    "\n",
    "### 1.\n",
    "微分方程式 $x\\frac{dy}{dx} = 4y$ 為可分離變數的形式，請分離後使用積分法求出其解。"
   ]
  },
  {
   "cell_type": "code",
   "execution_count": 2,
   "id": "96f1f819-ca90-4b24-974b-1ddb48d9a87c",
   "metadata": {
    "scrolled": true
   },
   "outputs": [
    {
     "data": {
      "text/html": [
       "<html>\\(\\displaystyle C x^{4}\\)</html>"
      ],
      "text/latex": [
       "$\\displaystyle C x^{4}$"
      ],
      "text/plain": [
       "_C*x^4"
      ]
     },
     "execution_count": 2,
     "metadata": {},
     "output_type": "execute_result"
    }
   ],
   "source": [
    "%display latex\n",
    "x = var('x'); y = function('y')(x)\n",
    "desolve(diff(y,x) == 4*y/x, y)"
   ]
  },
  {
   "cell_type": "markdown",
   "id": "04a30a16-e321-4047-aece-c081d7624909",
   "metadata": {},
   "source": [
    "___\n",
    "### 2.\n",
    "下述線性微分方程式之初始值問題，請依以下步驟求解：\n",
    "\n",
    "$$\n",
    "x\\frac{dy}{dx} + 2y = 3,\\  y(1) = 1\n",
    "$$"
   ]
  },
  {
   "cell_type": "markdown",
   "id": "ab928146-1346-4260-b52c-b74287ecacca",
   "metadata": {},
   "source": [
    "#### 方法一：直接用 `desolve` 求解"
   ]
  },
  {
   "cell_type": "code",
   "execution_count": 3,
   "id": "85cf3106-05a9-4402-a47f-dddc8a290906",
   "metadata": {},
   "outputs": [
    {
     "data": {
      "text/html": [
       "<html>\\(\\displaystyle \\frac{3 \\, x^{2} - 1}{2 \\, x^{2}}\\)</html>"
      ],
      "text/latex": [
       "$\\displaystyle \\frac{3 \\, x^{2} - 1}{2 \\, x^{2}}$"
      ],
      "text/plain": [
       "1/2*(3*x^2 - 1)/x^2"
      ]
     },
     "execution_count": 3,
     "metadata": {},
     "output_type": "execute_result"
    }
   ],
   "source": [
    "x = var('x'); y = function('y')(x)\n",
    "de_11 = x*diff(y,x) + 2*y == 3\n",
    "desolve(de_11, y, ics=[1,1])"
   ]
  },
  {
   "cell_type": "markdown",
   "id": "3373ad42-297a-4b12-a693-fe70a8081b5d",
   "metadata": {},
   "source": [
    "#### 方法二：依題目要求分步求解"
   ]
  },
  {
   "cell_type": "markdown",
   "id": "b31db0a8-cc75-4e67-acac-a2491161ae38",
   "metadata": {},
   "source": [
    "##### (a) 將此式表示為標準形式 (standard form);"
   ]
  },
  {
   "cell_type": "code",
   "execution_count": 4,
   "id": "ec2d11ee-1e1e-4ded-b829-8954aa64264e",
   "metadata": {},
   "outputs": [
    {
     "data": {
      "text/html": [
       "<html>\\(\\displaystyle \\frac{2 \\, y\\left(x\\right)}{x} + \\frac{\\partial}{\\partial x}y\\left(x\\right) = \\frac{3}{x}\\)</html>"
      ],
      "text/latex": [
       "$\\displaystyle \\frac{2 \\, y\\left(x\\right)}{x} + \\frac{\\partial}{\\partial x}y\\left(x\\right) = \\frac{3}{x}$"
      ],
      "text/plain": [
       "2*y(x)/x + diff(y(x), x) == 3/x"
      ]
     },
     "execution_count": 4,
     "metadata": {},
     "output_type": "execute_result"
    }
   ],
   "source": [
    "x = var('x'); y = function('y')(x)\n",
    "de_2 = diff(y, x) + (2/x)*y == 3/x; de_2"
   ]
  },
  {
   "cell_type": "markdown",
   "id": "7d9e6b28-7518-461d-9626-238d3b469525",
   "metadata": {},
   "source": [
    "##### (b) 求出積分因子 (integrating factor);"
   ]
  },
  {
   "cell_type": "code",
   "execution_count": 5,
   "id": "33f40162-0a25-498a-a566-bdf32a317e0a",
   "metadata": {},
   "outputs": [
    {
     "data": {
      "text/html": [
       "<html>\\(\\displaystyle x^{2}\\)</html>"
      ],
      "text/latex": [
       "$\\displaystyle x^{2}$"
      ],
      "text/plain": [
       "x^2"
      ]
     },
     "execution_count": 5,
     "metadata": {},
     "output_type": "execute_result"
    }
   ],
   "source": [
    "P_2 = 2/x\n",
    "mu_2 = exp(integral(P_2, x)); mu_2"
   ]
  },
  {
   "cell_type": "markdown",
   "id": "d24f71a7-1023-4c1b-80da-a314e7a29f06",
   "metadata": {},
   "source": [
    "##### (c) 將標準形式之方程式乘入積分因子;"
   ]
  },
  {
   "cell_type": "code",
   "execution_count": 6,
   "id": "116b7d69-1928-4e0f-a32e-c3bc146bd50e",
   "metadata": {},
   "outputs": [
    {
     "data": {
      "text/html": [
       "<html>\\(\\displaystyle x^{2} {\\left(\\frac{2 \\, y\\left(x\\right)}{x} + \\frac{\\partial}{\\partial x}y\\left(x\\right)\\right)} = 3 \\, x\\)</html>"
      ],
      "text/latex": [
       "$\\displaystyle x^{2} {\\left(\\frac{2 \\, y\\left(x\\right)}{x} + \\frac{\\partial}{\\partial x}y\\left(x\\right)\\right)} = 3 \\, x$"
      ],
      "text/plain": [
       "x^2*(2*y(x)/x + diff(y(x), x)) == 3*x"
      ]
     },
     "execution_count": 6,
     "metadata": {},
     "output_type": "execute_result"
    }
   ],
   "source": [
    "mu_2*de_2"
   ]
  },
  {
   "cell_type": "markdown",
   "id": "79a6d13b-b6d9-43f2-aaa8-0655091048b6",
   "metadata": {},
   "source": [
    "##### (d) 積分後求出通解 (general solution);"
   ]
  },
  {
   "cell_type": "code",
   "execution_count": 7,
   "id": "90d7d38b-6b90-405d-8439-5ec652319cda",
   "metadata": {},
   "outputs": [
    {
     "data": {
      "text/plain": [
       "_C/x^2 + 3/2"
      ]
     },
     "execution_count": 7,
     "metadata": {},
     "output_type": "execute_result"
    }
   ],
   "source": [
    "%display plain\n",
    "sol_2 = desolve(mu_2*de_2, y).expand()\n",
    "sol_2"
   ]
  },
  {
   "cell_type": "markdown",
   "id": "912f13bd-f1d0-4cd7-9e4d-7fa8d639a27a",
   "metadata": {},
   "source": [
    "##### (e) 代入初始條件,求出初始值問題的解。\n",
    "\n",
    "亦即將初始條件 $x = 1, y = 1$ 代入上式後解出 $C$:\n",
    "\n",
    "$$\n",
    "\\frac{C}{1^2} + \\frac{3}{2} = 1\n",
    "$$"
   ]
  },
  {
   "cell_type": "code",
   "execution_count": 8,
   "id": "b4129e33-498c-4093-b939-7bf4d6d485fe",
   "metadata": {},
   "outputs": [
    {
     "data": {
      "text/plain": [
       "(_C, x)"
      ]
     },
     "execution_count": 8,
     "metadata": {},
     "output_type": "execute_result"
    }
   ],
   "source": [
    "#確定 sol_2 之變數為：\n",
    "sol_2.variables()"
   ]
  },
  {
   "cell_type": "code",
   "execution_count": 9,
   "id": "d5675d7c-09df-4b47-b58d-1ad197b7be3f",
   "metadata": {},
   "outputs": [
    {
     "data": {
      "text/plain": [
       "_C"
      ]
     },
     "execution_count": 9,
     "metadata": {},
     "output_type": "execute_result"
    }
   ],
   "source": [
    "#由於 _C 並為定義，故指派給物件 c:\n",
    "c = sol_2.variables()[0]\n",
    "c"
   ]
  },
  {
   "cell_type": "code",
   "execution_count": 10,
   "id": "e0a27ddc-3d01-4728-bfc6-89cd9c823b21",
   "metadata": {},
   "outputs": [
    {
     "data": {
      "text/plain": [
       "_C + 3/2"
      ]
     },
     "execution_count": 10,
     "metadata": {},
     "output_type": "execute_result"
    }
   ],
   "source": [
    "#將 x = 1 代入 sol_2, 命名為 sol_2_1:\n",
    "sol_2_1 = sol_2.substitute(x==1)\n",
    "sol_2_1"
   ]
  },
  {
   "cell_type": "code",
   "execution_count": 11,
   "id": "3b76ae3e-8c1a-48c8-acf8-e97a9e7f9c59",
   "metadata": {},
   "outputs": [
    {
     "data": {
      "text/plain": [
       "[_C == (-1/2)]"
      ]
     },
     "execution_count": 11,
     "metadata": {},
     "output_type": "execute_result"
    }
   ],
   "source": [
    "#解出 sol_2_1 == 1 時之 c 值 (即 ic x = 1, y = 1):\n",
    "solve(sol_2_1==1, c)"
   ]
  },
  {
   "cell_type": "code",
   "execution_count": 12,
   "id": "ff3e3b0a-a5d0-4529-977e-37694395832b",
   "metadata": {},
   "outputs": [
    {
     "data": {
      "text/plain": [
       "-1/2/x^2 + 3/2"
      ]
     },
     "execution_count": 12,
     "metadata": {},
     "output_type": "execute_result"
    }
   ],
   "source": [
    "#將結果代入 sol_2 得到解 y(x):\n",
    "sol_2.substitute(c == -1/2)"
   ]
  },
  {
   "cell_type": "markdown",
   "id": "1dccbfa6-6de2-4b22-a9db-3ea3dab09bfa",
   "metadata": {},
   "source": [
    "___\n",
    "### 3.\n",
    "一微分方程式 $6y''+ y' − y = 0$，其解之一為 $y_1 = e^{x/3}$，試依以下步驟，以降階法 (reduction of order) 解之。"
   ]
  },
  {
   "cell_type": "markdown",
   "id": "b5e10dc1-f158-4f27-b47c-d57ed795661b",
   "metadata": {},
   "source": [
    "#### 方法一：直接用 `desolve` 求解\n",
    "\n",
    "不使用降階法而直接解問題，可作為答案之對照："
   ]
  },
  {
   "cell_type": "code",
   "execution_count": 13,
   "id": "9e34bffc-9322-4668-bfad-582a21cfc9bb",
   "metadata": {},
   "outputs": [
    {
     "data": {
      "text/html": [
       "<html>\\(\\displaystyle K_{1} e^{\\left(\\frac{1}{3} \\, x\\right)} + K_{2} e^{\\left(-\\frac{1}{2} \\, x\\right)}\\)</html>"
      ],
      "text/latex": [
       "$\\displaystyle K_{1} e^{\\left(\\frac{1}{3} \\, x\\right)} + K_{2} e^{\\left(-\\frac{1}{2} \\, x\\right)}$"
      ],
      "text/plain": [
       "_K1*e^(1/3*x) + _K2*e^(-1/2*x)"
      ]
     },
     "execution_count": 13,
     "metadata": {},
     "output_type": "execute_result"
    }
   ],
   "source": [
    "%display latex\n",
    "x = var('x'); y = function('y')(x)\n",
    "de_3 = 6 * diff(y, x, 2) + diff(y, x) - y == 0\n",
    "desolve(de_3, y)"
   ]
  },
  {
   "cell_type": "markdown",
   "id": "d19473f2-9e28-488b-b31a-9bd412d43258",
   "metadata": {},
   "source": [
    "#### 方法二：直接降階法分步求解"
   ]
  },
  {
   "cell_type": "code",
   "execution_count": 14,
   "id": "30a8962e-bd9e-4efd-8b43-d98c58a6a7e3",
   "metadata": {},
   "outputs": [],
   "source": [
    "x = var('x'); y = function('y')(x)\n",
    "y1 = exp(x/3)"
   ]
  },
  {
   "cell_type": "markdown",
   "id": "0d1d0868-c9ff-44db-88e9-8d16741e2430",
   "metadata": {},
   "source": [
    "##### (a) 設另一解為 $y = u(x)y_1$ 代入原式，並寫出以 $u$ 表示之微分方程式；"
   ]
  },
  {
   "cell_type": "code",
   "execution_count": 15,
   "id": "fbf6cde8-e9b3-4c69-83b0-d4753d81bbc9",
   "metadata": {},
   "outputs": [
    {
     "data": {
      "text/html": [
       "<html>\\(\\displaystyle 5 \\, e^{\\left(\\frac{1}{3} \\, x\\right)} \\frac{\\partial}{\\partial x}u\\left(x\\right) + 6 \\, e^{\\left(\\frac{1}{3} \\, x\\right)} \\frac{\\partial^{2}}{(\\partial x)^{2}}u\\left(x\\right) = 0\\)</html>"
      ],
      "text/latex": [
       "$\\displaystyle 5 \\, e^{\\left(\\frac{1}{3} \\, x\\right)} \\frac{\\partial}{\\partial x}u\\left(x\\right) + 6 \\, e^{\\left(\\frac{1}{3} \\, x\\right)} \\frac{\\partial^{2}}{(\\partial x)^{2}}u\\left(x\\right) = 0$"
      ],
      "text/plain": [
       "5*e^(1/3*x)*diff(u(x), x) + 6*e^(1/3*x)*diff(u(x), x, x) == 0"
      ]
     },
     "execution_count": 15,
     "metadata": {},
     "output_type": "execute_result"
    }
   ],
   "source": [
    "u = function('u')(x)\n",
    "y = u * y1\n",
    "de_3 = 6 * diff(y, x, 2) + diff(y, x) - y == 0; de_3"
   ]
  },
  {
   "cell_type": "markdown",
   "id": "efa7add0-0fc2-4f7b-92e8-e23c43f141bc",
   "metadata": {},
   "source": [
    "##### (b) 求出 $u$ 的解；"
   ]
  },
  {
   "cell_type": "code",
   "execution_count": 16,
   "id": "04465413-5839-41b1-9bcf-750dbd46a5d3",
   "metadata": {
    "scrolled": true
   },
   "outputs": [
    {
     "data": {
      "text/html": [
       "<html>\\(\\displaystyle 5 \\, \\frac{\\partial}{\\partial x}u\\left(x\\right) + 6 \\, \\frac{\\partial^{2}}{(\\partial x)^{2}}u\\left(x\\right) = 0\\)</html>"
      ],
      "text/latex": [
       "$\\displaystyle 5 \\, \\frac{\\partial}{\\partial x}u\\left(x\\right) + 6 \\, \\frac{\\partial^{2}}{(\\partial x)^{2}}u\\left(x\\right) = 0$"
      ],
      "text/plain": [
       "5*diff(u(x), x) + 6*diff(u(x), x, x) == 0"
      ]
     },
     "execution_count": 16,
     "metadata": {},
     "output_type": "execute_result"
    }
   ],
   "source": [
    "de_u = de_3/y1; de_u.canonicalize_radical()"
   ]
  },
  {
   "cell_type": "code",
   "execution_count": 17,
   "id": "b58bcfd3-4b35-41db-aef6-4bb7e36c99ff",
   "metadata": {},
   "outputs": [
    {
     "data": {
      "text/html": [
       "<html>\\(\\displaystyle 5 \\, w\\left(x\\right) + 6 \\, \\frac{\\partial}{\\partial x}w\\left(x\\right) = 0\\)</html>"
      ],
      "text/latex": [
       "$\\displaystyle 5 \\, w\\left(x\\right) + 6 \\, \\frac{\\partial}{\\partial x}w\\left(x\\right) = 0$"
      ],
      "text/plain": [
       "5*w(x) + 6*diff(w(x), x) == 0"
      ]
     },
     "execution_count": 17,
     "metadata": {},
     "output_type": "execute_result"
    }
   ],
   "source": [
    "w = function('w')(x)\n",
    "de_w = 5 * w + 6 * diff(w, x) == 0; de_w"
   ]
  },
  {
   "cell_type": "code",
   "execution_count": 18,
   "id": "e9fc8f9a-99e5-43f0-8e8b-3411a70e04cd",
   "metadata": {},
   "outputs": [
    {
     "data": {
      "text/html": [
       "<html>\\(\\displaystyle C e^{\\left(-\\frac{5}{6} \\, x\\right)}\\)</html>"
      ],
      "text/latex": [
       "$\\displaystyle C e^{\\left(-\\frac{5}{6} \\, x\\right)}$"
      ],
      "text/plain": [
       "_C*e^(-5/6*x)"
      ]
     },
     "execution_count": 18,
     "metadata": {},
     "output_type": "execute_result"
    }
   ],
   "source": [
    "desolve(de_w, w)"
   ]
  },
  {
   "cell_type": "markdown",
   "id": "1cbac6e7-e4a0-4c2f-81a1-b94181b68d1a",
   "metadata": {},
   "source": [
    "##### (c) 求出原微分方程式的另一解 $y_2$。"
   ]
  },
  {
   "cell_type": "code",
   "execution_count": 19,
   "id": "ef83db81-3bd7-4d01-90e2-5b19b19b271d",
   "metadata": {},
   "outputs": [
    {
     "data": {
      "text/html": [
       "<html>\\(\\displaystyle C e^{\\left(-\\frac{1}{2} \\, x\\right)}\\)</html>"
      ],
      "text/latex": [
       "$\\displaystyle C e^{\\left(-\\frac{1}{2} \\, x\\right)}$"
      ],
      "text/plain": [
       "_C*e^(-1/2*x)"
      ]
     },
     "execution_count": 19,
     "metadata": {},
     "output_type": "execute_result"
    }
   ],
   "source": [
    "y2 = desolve(de_w, w) * y1; y2"
   ]
  },
  {
   "cell_type": "markdown",
   "id": "216f2d6e-60a9-4bff-b960-ebe526ffaf3f",
   "metadata": {},
   "source": [
    "___\n",
    "### 4.\n",
    "一非齊性常係數微分方程式為 $y'' + 4y = 3 \\sin{2x}$，依以下待定係數法步驟求解。"
   ]
  },
  {
   "cell_type": "markdown",
   "id": "5fb854ea-a9a4-4528-9b65-d4b5ba5ff03a",
   "metadata": {},
   "source": [
    "#### 方法一：直接用 `desolve` 求解\n"
   ]
  },
  {
   "cell_type": "code",
   "execution_count": 20,
   "id": "a5bf3335-1414-4d3e-8219-9f8d8832de6e",
   "metadata": {},
   "outputs": [
    {
     "data": {
      "text/html": [
       "<html>\\(\\displaystyle K_{2} \\cos\\left(2 \\, x\\right) - \\frac{3}{4} \\, x \\cos\\left(2 \\, x\\right) + K_{1} \\sin\\left(2 \\, x\\right)\\)</html>"
      ],
      "text/latex": [
       "$\\displaystyle K_{2} \\cos\\left(2 \\, x\\right) - \\frac{3}{4} \\, x \\cos\\left(2 \\, x\\right) + K_{1} \\sin\\left(2 \\, x\\right)$"
      ],
      "text/plain": [
       "_K2*cos(2*x) - 3/4*x*cos(2*x) + _K1*sin(2*x)"
      ]
     },
     "execution_count": 20,
     "metadata": {},
     "output_type": "execute_result"
    }
   ],
   "source": [
    "%display latex\n",
    "x = var('x')\n",
    "y = function('y')(x)\n",
    "desolve(diff(y,x,2) + 4*y == 3*sin(2*x), y)"
   ]
  },
  {
   "cell_type": "markdown",
   "id": "1d454110-78a0-4db0-a8e6-6674a9e4a3aa",
   "metadata": {},
   "source": [
    "#### 方法二：分段步驟\n",
    "\n",
    "較為複雜，參考即可。"
   ]
  },
  {
   "cell_type": "markdown",
   "id": "6b777014-7383-44c8-a2c1-b91e4c0a83d0",
   "metadata": {},
   "source": [
    "##### (a) 求出齊性解 $y_c$；"
   ]
  },
  {
   "cell_type": "code",
   "execution_count": 21,
   "id": "66f352f7-eade-48c5-abf3-87bd58fa64c0",
   "metadata": {},
   "outputs": [
    {
     "data": {
      "text/html": [
       "<html>\\(\\displaystyle \\left[m = \\left(-2 i\\right), m = \\left(2 i\\right)\\right]\\)</html>"
      ],
      "text/latex": [
       "$\\displaystyle \\left[m = \\left(-2 i\\right), m = \\left(2 i\\right)\\right]$"
      ],
      "text/plain": [
       "[m == (-2*I), m == (2*I)]"
      ]
     },
     "execution_count": 21,
     "metadata": {},
     "output_type": "execute_result"
    }
   ],
   "source": [
    "m = var('m')\n",
    "char_eq = m^2 + 4\n",
    "roots = solve(char_eq == 0,m); roots"
   ]
  },
  {
   "cell_type": "code",
   "execution_count": 22,
   "id": "bd6d6955-8032-4217-9ec2-eb1bda857697",
   "metadata": {},
   "outputs": [
    {
     "data": {
      "text/html": [
       "<html>\\(\\displaystyle C_{1} \\cos\\left(2 \\, x\\right) + C_{2} \\sin\\left(2 \\, x\\right)\\)</html>"
      ],
      "text/latex": [
       "$\\displaystyle C_{1} \\cos\\left(2 \\, x\\right) + C_{2} \\sin\\left(2 \\, x\\right)$"
      ],
      "text/plain": [
       "C1*cos(2*x) + C2*sin(2*x)"
      ]
     },
     "execution_count": 22,
     "metadata": {},
     "output_type": "execute_result"
    }
   ],
   "source": [
    "# 根據根的情況分類\n",
    "C1, C2 = var('C1 C2')\n",
    "\n",
    "if len(roots) == 2:  # 確保存在兩個根\n",
    "    root1 = roots[0].rhs()\n",
    "    root2 = roots[1].rhs()\n",
    "    \n",
    "    if root1.is_real() and root2.is_real() and root1 != root2:  # 相異實根\n",
    "        y_h = C1 * exp(root1 * x) + C2 * exp(root2 * x)        \n",
    "    elif root1.is_real() and root2.is_real() and root1 == root2:  # 重複實根\n",
    "        y_h = (C1 + C2 * x) * exp(root1 * x)        \n",
    "    elif not root1.is_real() and not root2.is_real():  # 共軛虛根\n",
    "        y_h = exp(root1.real() * x) * (C1 * cos(root1.abs() * x) + C2 * sin(root1.abs() * x))\n",
    "    else:\n",
    "        raise ValueError(\"根的類型不符合處理範圍\")\n",
    "else:\n",
    "    raise ValueError(\"特徵方程的根數不足以描述二階微分方程\")\n",
    "y_h"
   ]
  },
  {
   "cell_type": "markdown",
   "id": "fef8560e-c241-49e1-9df1-212f3b3743a0",
   "metadata": {},
   "source": [
    "##### (b) 設定特解 $y_p$ 的形式；"
   ]
  },
  {
   "cell_type": "code",
   "execution_count": 23,
   "id": "11a840fc-17fd-4a67-9909-6f89fbf5b449",
   "metadata": {
    "scrolled": true
   },
   "outputs": [
    {
     "data": {
      "text/html": [
       "<html>\\(\\displaystyle {\\left(A \\cos\\left(2 \\, x\\right) + B \\sin\\left(2 \\, x\\right)\\right)} x\\)</html>"
      ],
      "text/latex": [
       "$\\displaystyle {\\left(A \\cos\\left(2 \\, x\\right) + B \\sin\\left(2 \\, x\\right)\\right)} x$"
      ],
      "text/plain": [
       "(A*cos(2*x) + B*sin(2*x))*x"
      ]
     },
     "execution_count": 23,
     "metadata": {},
     "output_type": "execute_result"
    }
   ],
   "source": [
    "A, B = var('A B')\n",
    "y_p_form = x*(A*cos(2*x) + B*sin(2*x)); y_p_form"
   ]
  },
  {
   "cell_type": "markdown",
   "id": "b1140a0f-2529-452e-abb2-7e7aed0b8ca2",
   "metadata": {},
   "source": [
    "##### (c) 求出 $y_p$；"
   ]
  },
  {
   "cell_type": "code",
   "execution_count": 24,
   "id": "6522e1be-a149-4a16-a631-fa165c500e33",
   "metadata": {},
   "outputs": [
    {
     "data": {
      "text/html": [
       "<html>\\(\\displaystyle 4 \\, B \\cos\\left(2 \\, x\\right) - 4 \\, A \\sin\\left(2 \\, x\\right) = 3 \\, \\sin\\left(2 \\, x\\right)\\)</html>"
      ],
      "text/latex": [
       "$\\displaystyle 4 \\, B \\cos\\left(2 \\, x\\right) - 4 \\, A \\sin\\left(2 \\, x\\right) = 3 \\, \\sin\\left(2 \\, x\\right)$"
      ],
      "text/plain": [
       "4*B*cos(2*x) - 4*A*sin(2*x) == 3*sin(2*x)"
      ]
     },
     "execution_count": 24,
     "metadata": {},
     "output_type": "execute_result"
    }
   ],
   "source": [
    "#  y'' + 4y = 3*sin(2x)\n",
    "eq_4 = diff(y_p_form, x, 2) + 4 * y_p_form == 3 * sin(2 * x)\n",
    "eq_4"
   ]
  },
  {
   "cell_type": "code",
   "execution_count": 25,
   "id": "aa66ff46-2fa6-417f-9267-188b20734453",
   "metadata": {},
   "outputs": [
    {
     "data": {
      "text/html": [
       "<html>\\(\\displaystyle -\\frac{3}{4} \\, x \\cos\\left(2 \\, x\\right)\\)</html>"
      ],
      "text/latex": [
       "$\\displaystyle -\\frac{3}{4} \\, x \\cos\\left(2 \\, x\\right)$"
      ],
      "text/plain": [
       "-3/4*x*cos(2*x)"
      ]
     },
     "execution_count": 25,
     "metadata": {},
     "output_type": "execute_result"
    }
   ],
   "source": [
    "# 可解出係數 A = -3/4, B = 0, 並得到特解 y_p\n",
    "y_p = y_p_form.substitute(A==-3/4, B==0)\n",
    "y_p"
   ]
  },
  {
   "cell_type": "markdown",
   "id": "9e8bb330-773d-49d5-a87a-64ae93f80138",
   "metadata": {},
   "source": [
    "##### (d) 寫出完整的解。"
   ]
  },
  {
   "cell_type": "code",
   "execution_count": 26,
   "id": "0a6979bd-0e0f-4aba-bca4-5c12f4a4ebaf",
   "metadata": {},
   "outputs": [
    {
     "data": {
      "text/html": [
       "<html>\\(\\displaystyle C_{1} \\cos\\left(2 \\, x\\right) - \\frac{3}{4} \\, x \\cos\\left(2 \\, x\\right) + C_{2} \\sin\\left(2 \\, x\\right)\\)</html>"
      ],
      "text/latex": [
       "$\\displaystyle C_{1} \\cos\\left(2 \\, x\\right) - \\frac{3}{4} \\, x \\cos\\left(2 \\, x\\right) + C_{2} \\sin\\left(2 \\, x\\right)$"
      ],
      "text/plain": [
       "C1*cos(2*x) - 3/4*x*cos(2*x) + C2*sin(2*x)"
      ]
     },
     "execution_count": 26,
     "metadata": {},
     "output_type": "execute_result"
    }
   ],
   "source": [
    "y_4 = y_h + y_p; y_4"
   ]
  },
  {
   "cell_type": "markdown",
   "id": "7868d060-1f55-4d6a-9979-5b87c6e88ae5",
   "metadata": {},
   "source": [
    "___\n",
    "### 5.\n",
    "依以下參數變異法步驟，解出微分方程式 $4y'' − y = e^{x/2} + 3$："
   ]
  },
  {
   "cell_type": "code",
   "execution_count": 27,
   "id": "1df275cf-0834-4972-bef6-906c088a1a16",
   "metadata": {},
   "outputs": [
    {
     "data": {
      "text/html": [
       "<html>\\(\\displaystyle -y\\left(x\\right) + 4 \\, \\frac{\\partial^{2}}{(\\partial x)^{2}}y\\left(x\\right) = e^{\\left(\\frac{1}{2} \\, x\\right)} + 3\\)</html>"
      ],
      "text/latex": [
       "$\\displaystyle -y\\left(x\\right) + 4 \\, \\frac{\\partial^{2}}{(\\partial x)^{2}}y\\left(x\\right) = e^{\\left(\\frac{1}{2} \\, x\\right)} + 3$"
      ],
      "text/plain": [
       "-y(x) + 4*diff(y(x), x, x) == e^(1/2*x) + 3"
      ]
     },
     "execution_count": 27,
     "metadata": {},
     "output_type": "execute_result"
    }
   ],
   "source": [
    "x = var('x')\n",
    "y = function('y')(x)\n",
    "de_5 = 4*diff(y, x, 2) - y == exp(x/2) + 3; de_5"
   ]
  },
  {
   "cell_type": "markdown",
   "id": "3451e1be-93cb-4bbf-be36-e7b6a49e2e9b",
   "metadata": {},
   "source": [
    "#### 方法一：直接用 `desolve` 求解"
   ]
  },
  {
   "cell_type": "code",
   "execution_count": 28,
   "id": "ecdf63ef-f63c-40b0-8e52-02de3bdf05ea",
   "metadata": {},
   "outputs": [
    {
     "data": {
      "text/html": [
       "<html>\\(\\displaystyle \\frac{1}{4} \\, {\\left({\\left(4 \\, K_{1} + x - 1\\right)} e^{x} + 4 \\, K_{2} - 12 \\, e^{\\left(\\frac{1}{2} \\, x\\right)}\\right)} e^{\\left(-\\frac{1}{2} \\, x\\right)}\\)</html>"
      ],
      "text/latex": [
       "$\\displaystyle \\frac{1}{4} \\, {\\left({\\left(4 \\, K_{1} + x - 1\\right)} e^{x} + 4 \\, K_{2} - 12 \\, e^{\\left(\\frac{1}{2} \\, x\\right)}\\right)} e^{\\left(-\\frac{1}{2} \\, x\\right)}$"
      ],
      "text/plain": [
       "1/4*((4*_K1 + x - 1)*e^x + 4*_K2 - 12*e^(1/2*x))*e^(-1/2*x)"
      ]
     },
     "execution_count": 28,
     "metadata": {},
     "output_type": "execute_result"
    }
   ],
   "source": [
    "desolve(de_5, y).simplify_full()"
   ]
  },
  {
   "cell_type": "markdown",
   "id": "148c8621-c0ff-433a-ace9-686737ec540c",
   "metadata": {},
   "source": [
    "#### 方法二：直接用 `desolve` 求解"
   ]
  },
  {
   "cell_type": "markdown",
   "id": "58bf0b3f-ea26-4f25-9be9-87326375943d",
   "metadata": {},
   "source": [
    "##### (a) 將方程式表示為標準形式；"
   ]
  },
  {
   "cell_type": "code",
   "execution_count": 29,
   "id": "f7e1f5b2-4039-4482-8f06-bb67c8d1ed72",
   "metadata": {},
   "outputs": [
    {
     "data": {
      "text/html": [
       "<html>\\(\\displaystyle -\\frac{1}{4} \\, y\\left(x\\right) + \\frac{\\partial^{2}}{(\\partial x)^{2}}y\\left(x\\right) = \\frac{1}{4} \\, e^{\\left(\\frac{1}{2} \\, x\\right)} + \\frac{3}{4}\\)</html>"
      ],
      "text/latex": [
       "$\\displaystyle -\\frac{1}{4} \\, y\\left(x\\right) + \\frac{\\partial^{2}}{(\\partial x)^{2}}y\\left(x\\right) = \\frac{1}{4} \\, e^{\\left(\\frac{1}{2} \\, x\\right)} + \\frac{3}{4}$"
      ],
      "text/plain": [
       "-1/4*y(x) + diff(y(x), x, x) == 1/4*e^(1/2*x) + 3/4"
      ]
     },
     "execution_count": 29,
     "metadata": {},
     "output_type": "execute_result"
    }
   ],
   "source": [
    "de_standard = de_5 / 4; de_standard"
   ]
  },
  {
   "cell_type": "markdown",
   "id": "0df60797-bcd0-4b0a-9c77-07b99484985b",
   "metadata": {},
   "source": [
    "##### (b) 解出齊性解 $y_c = c_1y_1 + c_2y_2$；"
   ]
  },
  {
   "cell_type": "code",
   "execution_count": 30,
   "id": "f2de0aee-94c1-4ec5-908d-fd0003a0512e",
   "metadata": {},
   "outputs": [
    {
     "data": {
      "text/html": [
       "<html>\\(\\displaystyle \\left[m = \\left(-\\frac{1}{2}\\right), m = \\left(\\frac{1}{2}\\right)\\right]\\)</html>"
      ],
      "text/latex": [
       "$\\displaystyle \\left[m = \\left(-\\frac{1}{2}\\right), m = \\left(\\frac{1}{2}\\right)\\right]$"
      ],
      "text/plain": [
       "[m == (-1/2), m == (1/2)]"
      ]
     },
     "execution_count": 30,
     "metadata": {},
     "output_type": "execute_result"
    }
   ],
   "source": [
    "char_eq =  m^2 - 1/4\n",
    "roots = solve(char_eq == 0,m); roots"
   ]
  },
  {
   "cell_type": "code",
   "execution_count": 31,
   "id": "f08784cc-bfb7-4460-b81f-d884fc3d8096",
   "metadata": {},
   "outputs": [
    {
     "data": {
      "text/html": [
       "<html>\\(\\displaystyle C_{2} e^{\\left(\\frac{1}{2} \\, x\\right)} + C_{1} e^{\\left(-\\frac{1}{2} \\, x\\right)}\\)</html>"
      ],
      "text/latex": [
       "$\\displaystyle C_{2} e^{\\left(\\frac{1}{2} \\, x\\right)} + C_{1} e^{\\left(-\\frac{1}{2} \\, x\\right)}$"
      ],
      "text/plain": [
       "C2*e^(1/2*x) + C1*e^(-1/2*x)"
      ]
     },
     "execution_count": 31,
     "metadata": {},
     "output_type": "execute_result"
    }
   ],
   "source": [
    "# 根據根的情況分類\n",
    "if len(roots) == 2:  # 確保存在兩個根\n",
    "    root1 = roots[0].rhs()\n",
    "    root2 = roots[1].rhs()\n",
    "    \n",
    "    if root1.is_real() and root2.is_real() and root1 != root2:  # 相異實根\n",
    "        y_h = C1 * exp(root1 * x) + C2 * exp(root2 * x)        \n",
    "    elif root1.is_real() and root2.is_real() and root1 == root2:  # 重複實根\n",
    "        y_h = (C1 + C2 * x) * exp(root1 * x)        \n",
    "    elif not root1.is_real() and not root2.is_real():  # 共軛虛根\n",
    "        y_h = exp(root1.real() * x) * (C1 * cos(root1.abs() * x) + C2 * sin(root1.abs() * x))\n",
    "    else:\n",
    "        raise ValueError(\"根的類型不符合處理範圍\")\n",
    "else:\n",
    "    raise ValueError(\"特徵方程的根數不足以描述二階微分方程\")\n",
    "y_h"
   ]
  },
  {
   "cell_type": "markdown",
   "id": "d5891abe-280f-411e-bfec-345bcc24d0f1",
   "metadata": {},
   "source": [
    "##### (c) 求出 Wronskian $W(y_1, y_2)$；"
   ]
  },
  {
   "cell_type": "markdown",
   "id": "d4ff539e-9c7a-46b5-a2b3-19f65f8ad8c6",
   "metadata": {},
   "source": [
    "$$\n",
    "W(y_1, y_2)=\\left|\\begin{array}{}y_1&y_2\\\\y_1'&y_2'\\end{array}\\right|\n",
    "$$"
   ]
  },
  {
   "cell_type": "code",
   "execution_count": 32,
   "id": "13768661-9b03-44b3-9d4d-cabc4b341f38",
   "metadata": {},
   "outputs": [
    {
     "data": {
      "text/html": [
       "<html>\\(\\displaystyle 1\\)</html>"
      ],
      "text/latex": [
       "$\\displaystyle 1$"
      ],
      "text/plain": [
       "1"
      ]
     },
     "execution_count": 32,
     "metadata": {},
     "output_type": "execute_result"
    }
   ],
   "source": [
    "y1 = exp(-x/2)\n",
    "y2 = exp(x/2)\n",
    "W = y1 * diff(y2, x) - y2 * diff(y1, x); W"
   ]
  },
  {
   "cell_type": "markdown",
   "id": "d69c9106-ed55-4b27-8bc0-156f91c2f762",
   "metadata": {},
   "source": [
    "##### (d) 若特解 $y_p = u_1y_1 + u_2y_2$，使用 Cramer’s rule 解出 $u_1(x)$ 與 $u_2(x)$。"
   ]
  },
  {
   "cell_type": "code",
   "execution_count": 33,
   "id": "b9fa537b-7d11-481a-97bc-9019ae81d2c3",
   "metadata": {},
   "outputs": [
    {
     "data": {
      "text/html": [
       "<html>\\(\\displaystyle \\verb|u1:| -\\frac{3}{2} \\, e^{\\left(\\frac{1}{2} \\, x\\right)} - \\frac{1}{4} \\, e^{x} - \\frac{9}{4}\\)</html>"
      ],
      "text/latex": [
       "$\\displaystyle \\verb|u1:| -\\frac{3}{2} \\, e^{\\left(\\frac{1}{2} \\, x\\right)} - \\frac{1}{4} \\, e^{x} - \\frac{9}{4}$"
      ],
      "text/plain": [
       "'u1:' -3/2*e^(1/2*x) - 1/4*e^x - 9/4"
      ]
     },
     "metadata": {},
     "output_type": "display_data"
    },
    {
     "data": {
      "text/html": [
       "<html>\\(\\displaystyle \\verb|u2:| \\frac{1}{4} \\, x - \\frac{3}{2} \\, e^{\\left(-\\frac{1}{2} \\, x\\right)}\\)</html>"
      ],
      "text/latex": [
       "$\\displaystyle \\verb|u2:| \\frac{1}{4} \\, x - \\frac{3}{2} \\, e^{\\left(-\\frac{1}{2} \\, x\\right)}$"
      ],
      "text/plain": [
       "'u2:' 1/4*x - 3/2*e^(-1/2*x)"
      ]
     },
     "metadata": {},
     "output_type": "display_data"
    },
    {
     "data": {
      "text/html": [
       "<html>\\(\\displaystyle \\verb|u1':| -\\frac{3}{4} \\, e^{\\left(\\frac{1}{2} \\, x\\right)} - \\frac{1}{4} \\, e^{x}\\)</html>"
      ],
      "text/latex": [
       "$\\displaystyle \\verb|u1':| -\\frac{3}{4} \\, e^{\\left(\\frac{1}{2} \\, x\\right)} - \\frac{1}{4} \\, e^{x}$"
      ],
      "text/plain": [
       "\"u1':\" -3/4*e^(1/2*x) - 1/4*e^x"
      ]
     },
     "metadata": {},
     "output_type": "display_data"
    },
    {
     "data": {
      "text/html": [
       "<html>\\(\\displaystyle \\verb|u2':| \\frac{3}{4} \\, e^{\\left(-\\frac{1}{2} \\, x\\right)} + \\frac{1}{4}\\)</html>"
      ],
      "text/latex": [
       "$\\displaystyle \\verb|u2':| \\frac{3}{4} \\, e^{\\left(-\\frac{1}{2} \\, x\\right)} + \\frac{1}{4}$"
      ],
      "text/plain": [
       "\"u2':\" 3/4*e^(-1/2*x) + 1/4"
      ]
     },
     "metadata": {},
     "output_type": "display_data"
    }
   ],
   "source": [
    "non_homogeneous = (1/4) * (exp(x/2) + 3)\n",
    "\n",
    "u1_prime = -y2 * non_homogeneous / W\n",
    "u2_prime = y1 * non_homogeneous / W\n",
    "\n",
    "u1 = integral(u1_prime, x)\n",
    "u2 = integral(u2_prime, x)\n",
    "\n",
    "show(\"u1:\", u1.expand())\n",
    "show(\"u2:\", u2.expand())\n",
    "show(\"u1':\", u1_prime.expand())\n",
    "show(\"u2':\", u2_prime.expand())"
   ]
  },
  {
   "cell_type": "markdown",
   "id": "fa233c33-edf3-4dd3-843c-088a04fb85f2",
   "metadata": {},
   "source": [
    "##### (e) 求出完整的解。"
   ]
  },
  {
   "cell_type": "code",
   "execution_count": 34,
   "id": "5f384474-3d3e-469b-b44a-24edd0144cbe",
   "metadata": {},
   "outputs": [
    {
     "data": {
      "text/html": [
       "<html>\\(\\displaystyle \\frac{1}{4} \\, x e^{\\left(\\frac{1}{2} \\, x\\right)} - \\frac{1}{4} \\, e^{\\left(\\frac{1}{2} \\, x\\right)} - \\frac{9}{4} \\, e^{\\left(-\\frac{1}{2} \\, x\\right)} - 3\\)</html>"
      ],
      "text/latex": [
       "$\\displaystyle \\frac{1}{4} \\, x e^{\\left(\\frac{1}{2} \\, x\\right)} - \\frac{1}{4} \\, e^{\\left(\\frac{1}{2} \\, x\\right)} - \\frac{9}{4} \\, e^{\\left(-\\frac{1}{2} \\, x\\right)} - 3$"
      ],
      "text/plain": [
       "1/4*x*e^(1/2*x) - 1/4*e^(1/2*x) - 9/4*e^(-1/2*x) - 3"
      ]
     },
     "execution_count": 34,
     "metadata": {},
     "output_type": "execute_result"
    }
   ],
   "source": [
    "y_p = u1 * y1 + u2 * y2; y_p.expand()"
   ]
  },
  {
   "cell_type": "code",
   "execution_count": 35,
   "id": "6bed265f-e177-4e30-935d-a97cf35de617",
   "metadata": {},
   "outputs": [
    {
     "data": {
      "text/html": [
       "<html>\\(\\displaystyle C_{2} e^{\\left(\\frac{1}{2} \\, x\\right)} + \\frac{1}{4} \\, x e^{\\left(\\frac{1}{2} \\, x\\right)} + C_{1} e^{\\left(-\\frac{1}{2} \\, x\\right)} - \\frac{1}{4} \\, e^{\\left(\\frac{1}{2} \\, x\\right)} - \\frac{9}{4} \\, e^{\\left(-\\frac{1}{2} \\, x\\right)} - 3\\)</html>"
      ],
      "text/latex": [
       "$\\displaystyle C_{2} e^{\\left(\\frac{1}{2} \\, x\\right)} + \\frac{1}{4} \\, x e^{\\left(\\frac{1}{2} \\, x\\right)} + C_{1} e^{\\left(-\\frac{1}{2} \\, x\\right)} - \\frac{1}{4} \\, e^{\\left(\\frac{1}{2} \\, x\\right)} - \\frac{9}{4} \\, e^{\\left(-\\frac{1}{2} \\, x\\right)} - 3$"
      ],
      "text/plain": [
       "C2*e^(1/2*x) + 1/4*x*e^(1/2*x) + C1*e^(-1/2*x) - 1/4*e^(1/2*x) - 9/4*e^(-1/2*x) - 3"
      ]
     },
     "execution_count": 35,
     "metadata": {},
     "output_type": "execute_result"
    }
   ],
   "source": [
    "y_5 = y_h + y_p; y_5.expand()"
   ]
  },
  {
   "cell_type": "code",
   "execution_count": null,
   "id": "78cf1d73-9520-446a-b8a6-1183e30d970c",
   "metadata": {},
   "outputs": [],
   "source": []
  }
 ],
 "metadata": {
  "kernelspec": {
   "display_name": "SageMath 10.4",
   "language": "sage",
   "name": "sagemath-10.4"
  },
  "language_info": {
   "codemirror_mode": {
    "name": "ipython",
    "version": 3
   },
   "file_extension": ".py",
   "mimetype": "text/x-python",
   "name": "python",
   "nbconvert_exporter": "python",
   "pygments_lexer": "ipython3",
   "version": "3.12.4"
  }
 },
 "nbformat": 4,
 "nbformat_minor": 5
}
